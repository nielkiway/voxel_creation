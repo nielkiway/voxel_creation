{
 "cells": [
  {
   "cell_type": "code",
   "execution_count": 1,
   "metadata": {},
   "outputs": [],
   "source": [
    "import h5py\n",
    "import numpy as np\n",
    "import math\n",
    "import pandas as pd"
   ]
  },
  {
   "cell_type": "code",
   "execution_count": 36,
   "metadata": {},
   "outputs": [],
   "source": [
    "voxel_size = 3\n",
    "max_x_part = 4\n",
    "max_y_part = 4"
   ]
  },
  {
   "cell_type": "code",
   "execution_count": 37,
   "metadata": {},
   "outputs": [],
   "source": [
    "def get_2D_data_from_h5(h5_path, part_name, Slice_name):\n",
    "    with h5py.File(h5_path,'r') as h5:\n",
    "        X_Axis = h5[part_name][Slice_name]['X_Axis']\n",
    "        Y_Axis = h5[part_name][Slice_name]['Y_Axis']\n",
    "        Area = h5[part_name][Slice_name]['Area']\n",
    "\n",
    "        help_arr = np.column_stack((X_Axis, Y_Axis, Area))\n",
    "        df = pd.DataFrame(help_arr, columns=['x','y','Area'])\n",
    "        return df"
   ]
  },
  {
   "cell_type": "code",
   "execution_count": 38,
   "metadata": {},
   "outputs": [],
   "source": [
    "df = get_2D_data_from_h5(\"/home/jan/Documents/Voxel_Erstellung/example_hdf_3.hdf\",'part_1','Slice_1')"
   ]
  },
  {
   "cell_type": "code",
   "execution_count": 39,
   "metadata": {},
   "outputs": [],
   "source": [
    "#Berechnung der Anzahl an Voxeln (hier simpler Fall)\n",
    "def get_number_voxel (max_x_part, max_y_part, voxel_size):\n",
    "    n_voxels_x = math.ceil(int(max_x_part)/voxel_size)\n",
    "    n_voxels_y = math.ceil(int(max_y_part)/voxel_size)\n",
    "    return n_voxels_x, n_voxels_y #tuple is returned "
   ]
  },
  {
   "cell_type": "code",
   "execution_count": 40,
   "metadata": {},
   "outputs": [
    {
     "data": {
      "text/plain": [
       "(2, 2)"
      ]
     },
     "execution_count": 40,
     "metadata": {},
     "output_type": "execute_result"
    }
   ],
   "source": [
    "num_voxels = get_number_voxel (max_x_part, max_y_part, voxel_size)\n",
    "num_voxels"
   ]
  },
  {
   "cell_type": "code",
   "execution_count": 46,
   "metadata": {},
   "outputs": [],
   "source": [
    "def fill_2D_voxel_area (voxel_size, num_voxels_x, num_voxels_y, df, filling_method):\n",
    "    array_area = np.zeros([voxel_size,voxel_size]) #creating an empty array of dimensions voxel_size*voxel_size\n",
    "    for i in range(voxel_size*num_voxels_x, voxel_size*(num_voxels_x+1)): #iterating over x\n",
    "        for j in range(voxel_size*num_voxels_y,voxel_size*(num_voxels_y+1)): #iterating over y\n",
    "\n",
    "            if df[(df['x'] == i) & (df['y'] == j)].shape[0] == 1: #here subset of the original dataframe is created an filtrered --> shape[0] returns the number of rows of this df subset  \n",
    "                #finding the area value for a certain point in the part-data-dataframe and allocating it to a position in the array\n",
    "                area_i = df.loc[(df['x'] == i) & (df['y'] == j)]\n",
    "                array_area[i-num_voxels_x*voxel_size][j-num_voxels_y*voxel_size] = area_i['Area']\n",
    "                \n",
    "            elif df[(df['x'] == i) & (df['y'] == j)].shape[0] > 1:\n",
    "                #if there are more values than just one the maximum value is used for the voxel-datapoint; other methods of dealing with multiple values need to be considered \n",
    "                array_area[i-num_voxels_x*voxel_size][j-num_voxels_y*voxel_size] = df[(df['x'] == i) & (df['y'] == j)]['area'].max()\n",
    "\n",
    "            \n",
    "            elif df[(df['x'] == i) & (df['y'] == j)].shape[0] == 0 and filling_method == 'Zeros':\n",
    "                array_area[i-num_voxels_x*voxel_size][j-num_voxels_y*voxel_size] = 0\n",
    "                    \n",
    "            #elif filling_method == 'Mean': #with this method all the missing datapoints are getting filled with the mean of the non-missing datapoints \n",
    "             #   array_area[i][j] =      \n",
    "\n",
    "    return array_area\n"
   ]
  },
  {
   "cell_type": "code",
   "execution_count": 47,
   "metadata": {},
   "outputs": [],
   "source": [
    "voxel_hdf = h5py.File(\"voxels_over_border.hdf5\", \"w\")\n",
    "voxel_hdf.close()"
   ]
  },
  {
   "cell_type": "code",
   "execution_count": 48,
   "metadata": {},
   "outputs": [],
   "source": [
    "for n_vox_y_init in range(num_voxels[0]): #iterating over number of voxels in y-direction\n",
    "    for n_vox_x_init in range(num_voxels[1]):#iterating over number of voxels in x-direction \n",
    "        \n",
    "        array_area = fill_2D_voxel_area(voxel_size, n_vox_x_init, n_vox_y_init, df,'Zeros')\n",
    "                \n",
    "        with h5py.File(\"voxels_over_border.hdf5\", \"a\") as voxel_hdf:\n",
    "            #creating a voxel with the numbers of voxels in both direction in its name and filling it with data\n",
    "            voxel_hdf.create_group('voxel_{}_{}'.format(n_vox_x_init,n_vox_y_init))\n",
    "            voxel_hdf['voxel_{}_{}'.format(n_vox_x_init,n_vox_y_init)].create_dataset('X-Axis',data = np.repeat(np.arange(0,voxel_size,1),voxel_size))\n",
    "            voxel_hdf['voxel_{}_{}'.format(n_vox_x_init,n_vox_y_init)].create_dataset('Y-Axis',data = np.tile(np.arange(0,voxel_size,1),voxel_size))\n",
    "            voxel_hdf['voxel_{}_{}'.format(n_vox_x_init,n_vox_y_init)].create_dataset('Area', data = array_area.flatten())\n",
    "        #print(array)       "
   ]
  },
  {
   "cell_type": "code",
   "execution_count": null,
   "metadata": {},
   "outputs": [],
   "source": []
  }
 ],
 "metadata": {
  "kernelspec": {
   "display_name": "Python [conda env:TDMS_env]",
   "language": "python",
   "name": "conda-env-TDMS_env-py"
  },
  "language_info": {
   "codemirror_mode": {
    "name": "ipython",
    "version": 3
   },
   "file_extension": ".py",
   "mimetype": "text/x-python",
   "name": "python",
   "nbconvert_exporter": "python",
   "pygments_lexer": "ipython3",
   "version": "3.7.3"
  }
 },
 "nbformat": 4,
 "nbformat_minor": 2
}
