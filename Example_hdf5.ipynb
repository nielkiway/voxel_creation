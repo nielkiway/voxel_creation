{
 "cells": [
  {
   "cell_type": "code",
   "execution_count": 6,
   "metadata": {},
   "outputs": [],
   "source": [
    "import h5py\n",
    "import numpy as np\n",
    "i = 5 #Anzahl der Werte für x- und y-Axis\n",
    "num_slices_z = 20 #Anzahl der Slices je Voxel "
   ]
  },
  {
   "cell_type": "code",
   "execution_count": 7,
   "metadata": {},
   "outputs": [],
   "source": [
    "#data for x-Axis and y-Axis \n",
    "x_Axis = np.repeat(np.arange(0,i,1),i)\n",
    "y_Axis = np.tile(np.arange(0,i,1),i)"
   ]
  },
  {
   "cell_type": "code",
   "execution_count": 8,
   "metadata": {},
   "outputs": [],
   "source": [
    "Area_dict = {}\n",
    "for z in range(1,num_slices_z+1):\n",
    "    rd_area = (np.random.rand(i*i,)*100).astype(int)\n",
    "    Area_dict.update({'Area_slice{}'.format(z): rd_area})\n",
    "\n",
    "Intensity_dict = {}\n",
    "for z in range(1,num_slices_z+1):\n",
    "    rd_intensity = (np.random.rand(i*i,)*10).astype(int)\n",
    "    Intensity_dict.update({'Intensity_slice{}'.format(z): rd_intensity})\n",
    "\n",
    "    \n",
    "\n",
    "\n",
    "#Area_slice1 = (np.random.rand(i*i,)*100).astype(int)\n",
    "##100 nur damit Werte anschaulicher werden\n",
    "#Area_slice2 = (np.random.rand(i*i,)*100).astype(int)\n",
    "#Area_slice3 = (np.random.rand(i*i,)*100).astype(int)\n",
    "#Area_dict"
   ]
  },
  {
   "cell_type": "code",
   "execution_count": 9,
   "metadata": {},
   "outputs": [],
   "source": [
    "#hdf befüllen mit Werten --> Struktur erstellen mit Area, X-Axis etc. als Channels\n",
    "#zunächst group für Slice 00001 erstellen "
   ]
  },
  {
   "cell_type": "code",
   "execution_count": 10,
   "metadata": {},
   "outputs": [],
   "source": [
    "with h5py.File(\"/home/jan/Documents/Voxel_Erstellung/example_hdf_3.hdf\",\"w\") as f:\n",
    "    #struktur erzeugen\n",
    "    f.create_group('part_1')\n",
    "    for z in range(1,num_slices_z+1):    \n",
    "        f['part_1'].create_group('Slice_{}'.format(z))\n",
    "        f['part_1']['Slice_{}'.format(z)].create_dataset('X_Axis', data = x_Axis)\n",
    "        f['part_1']['Slice_{}'.format(z)].create_dataset('Y_Axis', data = y_Axis)\n",
    "        f['part_1']['Slice_{}'.format(z)].create_dataset('Area', data = Area_dict['Area_slice{}'.format(z)])\n",
    "        f['part_1']['Slice_{}'.format(z)].create_dataset('Intensity', data = Intensity_dict['Intensity_slice{}'.format(z)])"
   ]
  },
  {
   "cell_type": "code",
   "execution_count": null,
   "metadata": {},
   "outputs": [],
   "source": []
  }
 ],
 "metadata": {
  "kernelspec": {
   "display_name": "Python [conda env:TDMS_env]",
   "language": "python",
   "name": "conda-env-TDMS_env-py"
  },
  "language_info": {
   "codemirror_mode": {
    "name": "ipython",
    "version": 3
   },
   "file_extension": ".py",
   "mimetype": "text/x-python",
   "name": "python",
   "nbconvert_exporter": "python",
   "pygments_lexer": "ipython3",
   "version": "3.7.3"
  }
 },
 "nbformat": 4,
 "nbformat_minor": 2
}
