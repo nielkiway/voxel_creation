{
 "cells": [
  {
   "cell_type": "code",
   "execution_count": 1,
   "metadata": {},
   "outputs": [],
   "source": [
    "import h5py\n",
    "import numpy as np\n",
    "import math"
   ]
  },
  {
   "cell_type": "code",
   "execution_count": 2,
   "metadata": {},
   "outputs": [],
   "source": [
    "#here the dimension information of the part is extracted from the hdf5-file\n",
    "#data is stored as an attribute of the part in the hdf5 file "
   ]
  },
  {
   "cell_type": "code",
   "execution_count": 3,
   "metadata": {},
   "outputs": [],
   "source": [
    "hdf5_file = h5py.File('/home/jan/Documents/CodeTDMStoHDF/Ausgangsdaten/examplerRun_2.h5','r' )"
   ]
  },
  {
   "cell_type": "code",
   "execution_count": 5,
   "metadata": {},
   "outputs": [
    {
     "data": {
      "text/plain": [
       "['0_00001_Canti1_3_cls',\n",
       " '0_00002_Canti2_2_cls',\n",
       " '0_00003_Canti3_cls',\n",
       " '0_00004_F3_1_cls',\n",
       " '0_00005_F3_2_3_cls',\n",
       " '0_00006_F3_3_5_cls',\n",
       " '0_00007_F3_4_3_cls',\n",
       " '0_00008_F3_5_6_cls',\n",
       " '0_00009_F3_6_3_cls',\n",
       " '0_00010_F3_7_cls',\n",
       " '0_00011_Zugprobe 1_cls',\n",
       " '0_00012_F2_1_cls',\n",
       " '0_00013_F2_2_2_cls',\n",
       " '0_00014_F2_3_3_cls',\n",
       " '0_00015_F2_4_2_cls',\n",
       " '0_00016_F2_5_4_cls',\n",
       " '0_00017_F2_6_2_cls',\n",
       " '0_00018_F2_7_cls',\n",
       " '0_00019_Zugprobe 8_cls',\n",
       " '0_00020_F1_1_cls',\n",
       " '0_00021_F1_2_cls',\n",
       " '0_00022_F1_3_cls',\n",
       " '0_00023_F1_4_cls',\n",
       " '0_00024_F1_5_2_cls',\n",
       " '0_00025_F1_6_cls',\n",
       " '0_00026_F1_7_cls',\n",
       " '0_00027_Zugprobe 15_cls',\n",
       " '0_00028_Specimen_Pore_7_K_cls',\n",
       " '0_00029_Zugprobe 2_cls',\n",
       " '0_00030_Specimen_Pore_1_K_cls',\n",
       " '0_00031_Specimen_Pore_7_P_3_cls',\n",
       " '0_00032_Zugprobe 22_cls',\n",
       " '0_00033_Specimen_Pore_1_P_cls',\n",
       " '0_00034_Zugprobe 9_cls',\n",
       " '0_00035_Specimen_Pore_3_K_cls',\n",
       " '0_00036_Zugprobe 29_cls',\n",
       " '0_00037_Dilatometer_Probe 2_cls',\n",
       " '0_00038_Specimen_Pore_3_P_cls',\n",
       " '0_00039_Specimen_Pore_2_K_cls',\n",
       " '0_00040_Dilatometer_Probe 2_2_cls',\n",
       " '0_00041_Zugprobe 16_cls',\n",
       " '0_00042_Zugprobe 3_cls',\n",
       " '0_00043_Specimen_Pore_2_P_2_cls',\n",
       " '0_00044_Specimen_Pore_6_K_cls',\n",
       " '0_00045_Zugprobe 36_cls',\n",
       " '0_00046_Zugprobe 23_cls',\n",
       " '0_00047_Specimen_Pore_6_P_2_cls',\n",
       " '0_00048_Zugprobe 10_cls',\n",
       " '0_00049_Specimen_Pore_9_K',\n",
       " '0_00050_Zugprobe 43_cls',\n",
       " '0_00051_Dilatometer_Probe_cls',\n",
       " '0_00052_Zugprobe 30_cls',\n",
       " '0_00053_Dilatometer_Probe 2_3_cls',\n",
       " '0_00054_Specimen_Pore_5_K_cls',\n",
       " '0_00055_Specimen_Pore_9_P',\n",
       " '0_00056_Zugprobe 17_cls',\n",
       " '0_00057_Zugprobe 4_cls',\n",
       " '0_00058_Zugprobe 37_cls',\n",
       " '0_00059_Specimen_Pore_5_P_cls',\n",
       " '0_00060_Specimen_Pore_8_K_cls',\n",
       " '0_00061_Zugprobe 24_cls',\n",
       " '0_00062_Kalorimeter_Probe_2_cls',\n",
       " '0_00063_Zugprobe 11_cls',\n",
       " '0_00064_Specimen_Pore_4_K_cls',\n",
       " '0_00065_Kalorimeter_Probe_cls',\n",
       " '0_00066_Zugprobe 44_cls',\n",
       " '0_00067_Specimen_Pore_8_P_2_cls',\n",
       " '0_00068_Zugprobe 31_cls',\n",
       " '0_00069_Specimen_Pore_4_P_3_cls',\n",
       " '0_00070_Zugprobe 18_cls',\n",
       " '0_00071_Zugprobe 5_cls',\n",
       " '0_00072_Zugprobe 38_cls',\n",
       " '0_00073_LFA-Probe_cls',\n",
       " '0_00074_Zugprobe 25_cls',\n",
       " '0_00075_Zugprobe 12_cls',\n",
       " '0_00076_LFA-Probe_2_cls',\n",
       " '0_00077_Zugprobe 45_cls',\n",
       " '0_00078_Zugprobe 32_cls',\n",
       " '0_00079_Zugprobe 19_cls',\n",
       " '0_00080_ZM1_cls',\n",
       " '0_00081_Zugprobe 6_cls',\n",
       " '0_00082_Zugprobe 39_cls',\n",
       " '0_00083_Zugprobe 26_cls',\n",
       " '0_00084_ZM2_cls',\n",
       " '0_00085_Zugprobe 13_cls',\n",
       " '0_00086_Zugprobe 46_cls',\n",
       " '0_00087_ZM3_cls',\n",
       " '0_00088_Zugprobe 33_cls',\n",
       " '0_00089_ZP3_Z_cls',\n",
       " '0_00090_ZP3_P_9_cls',\n",
       " '0_00091_Zugprobe 20_cls',\n",
       " '0_00092_Zugprobe 7_cls',\n",
       " '0_00093_ZP2_Z_cls',\n",
       " '0_00094_Zugprobe 40_cls',\n",
       " '0_00095_ZP2_P_6_cls',\n",
       " '0_00096_Zugprobe 27_cls',\n",
       " '0_00097_ZP1_Z_cls',\n",
       " '0_00098_Zugprobe 14_cls',\n",
       " '0_00099_ZP1_P_3_cls',\n",
       " '0_00100_Zugprobe 47_cls',\n",
       " '0_00101_ZP6_Z_cls',\n",
       " '0_00102_Zugprobe 34_cls',\n",
       " '0_00103_ZP6_P_8_cls',\n",
       " '0_00104_Zugprobe 21_cls',\n",
       " '0_00105_ZP5_Z_cls',\n",
       " '0_00106_ZP5_P_5_cls',\n",
       " '0_00107_Zugprobe 41_cls',\n",
       " '0_00108_Zugprobe 28_cls',\n",
       " '0_00109_ZP4_Z_cls',\n",
       " '0_00110_ZP4_P_2_cls',\n",
       " '0_00111_Zugprobe 48_cls',\n",
       " '0_00112_Zugprobe 35_cls',\n",
       " '0_00113_ZP9_Z_cls',\n",
       " '0_00114_ZP9_P_7_cls',\n",
       " '0_00115_Zugprobe_B01_Blocksupport_0_6mm_ohne-Zahnanbindung_cls',\n",
       " '0_00116_s_Zugprobe_B01_Blocksupport_0_6mm_ohne-Zahnanbindung',\n",
       " '0_00117_ZP8_Z_cls',\n",
       " '0_00118_ZP8_P_4_cls',\n",
       " '0_00119_Zugprobe 42_cls',\n",
       " '0_00120_Zugprobe_B01_Blocksupport_0_6mm_ohne-Zahnanbindung_1_cls',\n",
       " '0_00121_s_Zugprobe_B01_Blocksupport_0_6mm_ohne-Zahnanbindung_1',\n",
       " '0_00122_ZP7_Z_cls',\n",
       " '0_00123_ZP7_P_cls',\n",
       " '0_00124_Zugprobe 49_cls',\n",
       " '0_00125_Zugprobe_B02_Blocksupport_0_8mm_ohne-Zahnanbindung_cls',\n",
       " '0_00126_s_Zugprobe_B02_Blocksupport_0_8mm_ohne-Zahnanbindung',\n",
       " '0_00127_Zugprobe_B01_Blocksupport_0_6mm_ohne-Zahnanbindung_2_cls',\n",
       " '0_00128_s_Zugprobe_B01_Blocksupport_0_6mm_ohne-Zahnanbindung_2',\n",
       " '0_00129_Zugprobe_B02_Blocksupport_0_8mm_ohne-Zahnanbindung_1_cls',\n",
       " '0_00130_s_Zugprobe_B02_Blocksupport_0_8mm_ohne-Zahnanbindung_1',\n",
       " '0_00131_Zugprobe_B02_Blocksupport_0_8mm_ohne-Zahnanbindung_2_cls',\n",
       " '0_00132_s_Zugprobe_B02_Blocksupport_0_8mm_ohne-Zahnanbindung_2',\n",
       " '0_00133_Zugprobe_B03_Blocksupport_1_0mm_ohne-Zahnanbindung_cls',\n",
       " '0_00134_s_Zugprobe_B03_Blocksupport_1_0mm_ohne-Zahnanbindung',\n",
       " '0_00135_Zugprobe_B03_Blocksupport_1_0mm_ohne-Zahnanbindung_1_cls',\n",
       " '0_00136_s_Zugprobe_B03_Blocksupport_1_0mm_ohne-Zahnanbindung_1',\n",
       " '0_00137_Zugprobe_B04_Blocksupport_0_8mm_mit-Zahnanbindung-stark_cls',\n",
       " '0_00138_s_Zugprobe_B04_Blocksupport_0_8mm_mit-Zahnanbindung-stark',\n",
       " '0_00139_Zugprobe_B03_Blocksupport_1_0mm_ohne-Zahnanbindung_2_cls',\n",
       " '0_00140_s_Zugprobe_B03_Blocksupport_1_0mm_ohne-Zahnanbindung_2',\n",
       " '0_00141_Zugprobe_B04_Blocksupport_0_8mm_mit-Zahnanbindung-stark_1_cls',\n",
       " '0_00142_s_Zugprobe_B04_Blocksupport_0_8mm_mit-Zahnanbindung-stark_1',\n",
       " '0_00143_Zugprobe_B05_Blocksupport_0_8mm_mit-Zahnanbindung-mittel_cls',\n",
       " '0_00144_s_Zugprobe_B05_Blocksupport_0_8mm_mit-Zahnanbindung-mittel',\n",
       " '0_00145_Zugprobe_B04_Blocksupport_0_8mm_mit-Zahnanbindung-stark_2_cls',\n",
       " '0_00146_s_Zugprobe_B04_Blocksupport_0_8mm_mit-Zahnanbindung-stark_2',\n",
       " '0_00147_Zugprobe_B05_Blocksupport_0_8mm_mit-Zahnanbindung-mittel_1_cls',\n",
       " '0_00148_s_Zugprobe_B05_Blocksupport_0_8mm_mit-Zahnanbindung-mittel_1',\n",
       " '0_00149_Zugprobe_B06_Blocksupport_0_8mm_mit-Zahnanbindung-schwach_cls',\n",
       " '0_00150_s_Zugprobe_B06_Blocksupport_0_8mm_mit-Zahnanbindung-schwach',\n",
       " '0_00151_Zugprobe_B05_Blocksupport_0_8mm_mit-Zahnanbindung-mittel_2_cls',\n",
       " '0_00152_s_Zugprobe_B05_Blocksupport_0_8mm_mit-Zahnanbindung-mittel_2',\n",
       " '0_00153_Zugprobe_B06_Blocksupport_0_8mm_mit-Zahnanbindung-schwach_1_cls',\n",
       " '0_00154_s_Zugprobe_B06_Blocksupport_0_8mm_mit-Zahnanbindung-schwach_1',\n",
       " '0_00155_Zugprobe_B06_Blocksupport_0_8mm_mit-Zahnanbindung-schwach_2_cls',\n",
       " '0_00156_s_Zugprobe_B06_Blocksupport_0_8mm_mit-Zahnanbindung-schwach_2',\n",
       " '1_00001_Canti1_3_cls',\n",
       " '1_00002_Canti2_2_cls',\n",
       " '1_00003_Canti3_cls',\n",
       " '1_00004_F3_1_cls',\n",
       " '1_00005_F3_2_3_cls',\n",
       " '1_00006_F3_3_5_cls',\n",
       " '1_00007_F3_4_3_cls',\n",
       " '1_00008_F3_5_6_cls',\n",
       " '1_00009_F3_6_3_cls',\n",
       " '1_00010_F3_7_cls',\n",
       " '1_00011_Zugprobe 1_cls',\n",
       " '1_00012_F2_1_cls',\n",
       " '1_00013_F2_2_2_cls',\n",
       " '1_00014_F2_3_3_cls',\n",
       " '1_00015_F2_4_2_cls',\n",
       " '1_00016_F2_5_4_cls',\n",
       " '1_00017_F2_6_2_cls',\n",
       " '1_00018_F2_7_cls',\n",
       " '1_00019_Zugprobe 8_cls',\n",
       " '1_00020_F1_1_cls',\n",
       " '1_00021_F1_2_cls',\n",
       " '1_00022_F1_3_cls',\n",
       " '1_00023_F1_4_cls',\n",
       " '1_00024_F1_5_2_cls',\n",
       " '1_00025_F1_6_cls',\n",
       " '1_00026_F1_7_cls',\n",
       " '1_00027_Zugprobe 15_cls',\n",
       " '1_00028_Specimen_Pore_7_K_cls',\n",
       " '1_00029_Zugprobe 2_cls',\n",
       " '1_00030_Specimen_Pore_1_K_cls',\n",
       " '1_00031_Specimen_Pore_7_P_3_cls',\n",
       " '1_00032_Zugprobe 22_cls',\n",
       " '1_00033_Specimen_Pore_1_P_cls',\n",
       " '1_00034_Zugprobe 9_cls',\n",
       " '1_00035_Specimen_Pore_3_K_cls',\n",
       " '1_00036_Zugprobe 29_cls',\n",
       " '1_00037_Dilatometer_Probe 2_cls',\n",
       " '1_00038_Specimen_Pore_3_P_cls',\n",
       " '1_00039_Specimen_Pore_2_K_cls',\n",
       " '1_00040_Dilatometer_Probe 2_2_cls',\n",
       " '1_00041_Zugprobe 16_cls',\n",
       " '1_00042_Zugprobe 3_cls',\n",
       " '1_00043_Specimen_Pore_2_P_2_cls',\n",
       " '1_00044_Specimen_Pore_6_K_cls',\n",
       " '1_00045_Zugprobe 36_cls',\n",
       " '1_00046_Zugprobe 23_cls',\n",
       " '1_00047_Specimen_Pore_6_P_2_cls',\n",
       " '1_00048_Zugprobe 10_cls',\n",
       " '1_00049_Specimen_Pore_9_K',\n",
       " '1_00050_Zugprobe 43_cls',\n",
       " '1_00051_Dilatometer_Probe_cls',\n",
       " '1_00052_Zugprobe 30_cls',\n",
       " '1_00053_Dilatometer_Probe 2_3_cls',\n",
       " '1_00054_Specimen_Pore_5_K_cls',\n",
       " '1_00055_Specimen_Pore_9_P',\n",
       " '1_00056_Zugprobe 17_cls',\n",
       " '1_00057_Zugprobe 4_cls',\n",
       " '1_00058_Zugprobe 37_cls',\n",
       " '1_00059_Specimen_Pore_5_P_cls',\n",
       " '1_00060_Specimen_Pore_8_K_cls',\n",
       " '1_00061_Zugprobe 24_cls',\n",
       " '1_00062_Kalorimeter_Probe_2_cls',\n",
       " '1_00063_Zugprobe 11_cls',\n",
       " '1_00064_Specimen_Pore_4_K_cls',\n",
       " '1_00065_Kalorimeter_Probe_cls',\n",
       " '1_00066_Zugprobe 44_cls',\n",
       " '1_00067_Specimen_Pore_8_P_2_cls',\n",
       " '1_00068_Zugprobe 31_cls',\n",
       " '1_00069_Specimen_Pore_4_P_3_cls',\n",
       " '1_00070_Zugprobe 18_cls',\n",
       " '1_00071_Zugprobe 5_cls',\n",
       " '1_00072_Zugprobe 38_cls',\n",
       " '1_00073_LFA-Probe_cls',\n",
       " '1_00074_Zugprobe 25_cls',\n",
       " '1_00075_Zugprobe 12_cls',\n",
       " '1_00076_LFA-Probe_2_cls',\n",
       " '1_00077_Zugprobe 45_cls',\n",
       " '1_00078_Zugprobe 32_cls',\n",
       " '1_00079_Zugprobe 19_cls',\n",
       " '1_00080_ZM1_cls',\n",
       " '1_00081_Zugprobe 6_cls',\n",
       " '1_00082_Zugprobe 39_cls',\n",
       " '1_00083_Zugprobe 26_cls',\n",
       " '1_00084_ZM2_cls',\n",
       " '1_00085_Zugprobe 13_cls',\n",
       " '1_00086_Zugprobe 46_cls',\n",
       " '1_00087_ZM3_cls',\n",
       " '1_00088_Zugprobe 33_cls',\n",
       " '1_00089_ZP3_Z_cls',\n",
       " '1_00090_ZP3_P_9_cls',\n",
       " '1_00091_Zugprobe 20_cls',\n",
       " '1_00092_Zugprobe 7_cls',\n",
       " '1_00093_ZP2_Z_cls',\n",
       " '1_00094_Zugprobe 40_cls',\n",
       " '1_00095_ZP2_P_6_cls',\n",
       " '1_00096_Zugprobe 27_cls',\n",
       " '1_00097_ZP1_Z_cls',\n",
       " '1_00098_Zugprobe 14_cls',\n",
       " '1_00099_ZP1_P_3_cls',\n",
       " '1_00100_Zugprobe 47_cls',\n",
       " '1_00101_ZP6_Z_cls',\n",
       " '1_00102_Zugprobe 34_cls',\n",
       " '1_00103_ZP6_P_8_cls',\n",
       " '1_00104_Zugprobe 21_cls',\n",
       " '1_00105_ZP5_Z_cls',\n",
       " '1_00106_ZP5_P_5_cls',\n",
       " '1_00107_Zugprobe 41_cls',\n",
       " '1_00108_Zugprobe 28_cls',\n",
       " '1_00109_ZP4_Z_cls',\n",
       " '1_00110_ZP4_P_2_cls',\n",
       " '1_00111_Zugprobe 48_cls',\n",
       " '1_00112_Zugprobe 35_cls',\n",
       " '1_00113_ZP9_Z_cls',\n",
       " '1_00114_ZP9_P_7_cls',\n",
       " '1_00115_Zugprobe_B01_Blocksupport_0_6mm_ohne-Zahnanbindung_cls',\n",
       " '1_00116_s_Zugprobe_B01_Blocksupport_0_6mm_ohne-Zahnanbindung',\n",
       " '1_00117_ZP8_Z_cls',\n",
       " '1_00118_ZP8_P_4_cls',\n",
       " '1_00119_Zugprobe 42_cls',\n",
       " '1_00120_Zugprobe_B01_Blocksupport_0_6mm_ohne-Zahnanbindung_1_cls',\n",
       " '1_00121_s_Zugprobe_B01_Blocksupport_0_6mm_ohne-Zahnanbindung_1',\n",
       " '1_00122_ZP7_Z_cls',\n",
       " '1_00123_ZP7_P_cls',\n",
       " '1_00124_Zugprobe 49_cls',\n",
       " '1_00125_Zugprobe_B02_Blocksupport_0_8mm_ohne-Zahnanbindung_cls',\n",
       " '1_00126_s_Zugprobe_B02_Blocksupport_0_8mm_ohne-Zahnanbindung',\n",
       " '1_00127_Zugprobe_B01_Blocksupport_0_6mm_ohne-Zahnanbindung_2_cls',\n",
       " '1_00128_s_Zugprobe_B01_Blocksupport_0_6mm_ohne-Zahnanbindung_2',\n",
       " '1_00129_Zugprobe_B02_Blocksupport_0_8mm_ohne-Zahnanbindung_1_cls',\n",
       " '1_00130_s_Zugprobe_B02_Blocksupport_0_8mm_ohne-Zahnanbindung_1',\n",
       " '1_00131_Zugprobe_B02_Blocksupport_0_8mm_ohne-Zahnanbindung_2_cls',\n",
       " '1_00132_s_Zugprobe_B02_Blocksupport_0_8mm_ohne-Zahnanbindung_2',\n",
       " '1_00133_Zugprobe_B03_Blocksupport_1_0mm_ohne-Zahnanbindung_cls',\n",
       " '1_00134_s_Zugprobe_B03_Blocksupport_1_0mm_ohne-Zahnanbindung',\n",
       " '1_00135_Zugprobe_B03_Blocksupport_1_0mm_ohne-Zahnanbindung_1_cls',\n",
       " '1_00136_s_Zugprobe_B03_Blocksupport_1_0mm_ohne-Zahnanbindung_1',\n",
       " '1_00137_Zugprobe_B04_Blocksupport_0_8mm_mit-Zahnanbindung-stark_cls',\n",
       " '1_00138_s_Zugprobe_B04_Blocksupport_0_8mm_mit-Zahnanbindung-stark',\n",
       " '1_00139_Zugprobe_B03_Blocksupport_1_0mm_ohne-Zahnanbindung_2_cls',\n",
       " '1_00140_s_Zugprobe_B03_Blocksupport_1_0mm_ohne-Zahnanbindung_2',\n",
       " '1_00141_Zugprobe_B04_Blocksupport_0_8mm_mit-Zahnanbindung-stark_1_cls',\n",
       " '1_00142_s_Zugprobe_B04_Blocksupport_0_8mm_mit-Zahnanbindung-stark_1',\n",
       " '1_00143_Zugprobe_B05_Blocksupport_0_8mm_mit-Zahnanbindung-mittel_cls',\n",
       " '1_00144_s_Zugprobe_B05_Blocksupport_0_8mm_mit-Zahnanbindung-mittel',\n",
       " '1_00145_Zugprobe_B04_Blocksupport_0_8mm_mit-Zahnanbindung-stark_2_cls',\n",
       " '1_00146_s_Zugprobe_B04_Blocksupport_0_8mm_mit-Zahnanbindung-stark_2',\n",
       " '1_00147_Zugprobe_B05_Blocksupport_0_8mm_mit-Zahnanbindung-mittel_1_cls',\n",
       " '1_00148_s_Zugprobe_B05_Blocksupport_0_8mm_mit-Zahnanbindung-mittel_1',\n",
       " '1_00149_Zugprobe_B06_Blocksupport_0_8mm_mit-Zahnanbindung-schwach_cls',\n",
       " '1_00150_s_Zugprobe_B06_Blocksupport_0_8mm_mit-Zahnanbindung-schwach',\n",
       " '1_00151_Zugprobe_B05_Blocksupport_0_8mm_mit-Zahnanbindung-mittel_2_cls',\n",
       " '1_00152_s_Zugprobe_B05_Blocksupport_0_8mm_mit-Zahnanbindung-mittel_2',\n",
       " '1_00153_Zugprobe_B06_Blocksupport_0_8mm_mit-Zahnanbindung-schwach_1_cls',\n",
       " '1_00154_s_Zugprobe_B06_Blocksupport_0_8mm_mit-Zahnanbindung-schwach_1',\n",
       " '1_00155_Zugprobe_B06_Blocksupport_0_8mm_mit-Zahnanbindung-schwach_2_cls',\n",
       " '1_00156_s_Zugprobe_B06_Blocksupport_0_8mm_mit-Zahnanbindung-schwach_2']"
      ]
     },
     "execution_count": 5,
     "metadata": {},
     "output_type": "execute_result"
    }
   ],
   "source": [
    "list(hdf5_file.keys())"
   ]
  },
  {
   "cell_type": "code",
   "execution_count": 6,
   "metadata": {},
   "outputs": [],
   "source": [
    "dset = hdf5_file['0_00001_Canti1_3_cls']"
   ]
  },
  {
   "cell_type": "code",
   "execution_count": 8,
   "metadata": {},
   "outputs": [
    {
     "data": {
      "text/plain": [
       "'/0_00001_Canti1_3_cls'"
      ]
     },
     "execution_count": 8,
     "metadata": {},
     "output_type": "execute_result"
    }
   ],
   "source": [
    "dset.name"
   ]
  },
  {
   "cell_type": "code",
   "execution_count": 10,
   "metadata": {},
   "outputs": [
    {
     "data": {
      "text/plain": [
       "<Attributes of HDF5 object at 139944261872280>"
      ]
     },
     "execution_count": 10,
     "metadata": {},
     "output_type": "execute_result"
    }
   ],
   "source": [
    "dset.attrs"
   ]
  },
  {
   "cell_type": "code",
   "execution_count": 13,
   "metadata": {},
   "outputs": [
    {
     "data": {
      "text/plain": [
       "<KeysViewHDF5 ['layerThickness', 'maxX', 'maxY', 'maxZ', 'minX', 'minY', 'minZ', 'test']>"
      ]
     },
     "execution_count": 13,
     "metadata": {},
     "output_type": "execute_result"
    }
   ],
   "source": [
    "dset.attrs.keys()"
   ]
  },
  {
   "cell_type": "code",
   "execution_count": 14,
   "metadata": {},
   "outputs": [
    {
     "data": {
      "text/plain": [
       "-77486"
      ]
     },
     "execution_count": 14,
     "metadata": {},
     "output_type": "execute_result"
    }
   ],
   "source": [
    "dset.attrs['maxX']"
   ]
  },
  {
   "cell_type": "code",
   "execution_count": 16,
   "metadata": {},
   "outputs": [
    {
     "data": {
      "text/plain": [
       "-113486"
      ]
     },
     "execution_count": 16,
     "metadata": {},
     "output_type": "execute_result"
    }
   ],
   "source": [
    "dset.attrs['minX']"
   ]
  },
  {
   "cell_type": "code",
   "execution_count": 17,
   "metadata": {},
   "outputs": [
    {
     "ename": "NameError",
     "evalue": "name 'maxY' is not defined",
     "output_type": "error",
     "traceback": [
      "\u001b[0;31m---------------------------------------------------------------------------\u001b[0m",
      "\u001b[0;31mNameError\u001b[0m                                 Traceback (most recent call last)",
      "\u001b[0;32m<ipython-input-17-996ebf5f09ae>\u001b[0m in \u001b[0;36m<module>\u001b[0;34m\u001b[0m\n\u001b[0;32m----> 1\u001b[0;31m \u001b[0mdset\u001b[0m\u001b[0;34m.\u001b[0m\u001b[0mattrs\u001b[0m\u001b[0;34m[\u001b[0m\u001b[0mmaxY\u001b[0m\u001b[0;34m]\u001b[0m\u001b[0;34m\u001b[0m\u001b[0;34m\u001b[0m\u001b[0m\n\u001b[0m",
      "\u001b[0;31mNameError\u001b[0m: name 'maxY' is not defined"
     ]
    }
   ],
   "source": []
  },
  {
   "cell_type": "code",
   "execution_count": null,
   "metadata": {},
   "outputs": [],
   "source": []
  }
 ],
 "metadata": {
  "kernelspec": {
   "display_name": "Python [conda env:TDMS_env]",
   "language": "python",
   "name": "conda-env-TDMS_env-py"
  },
  "language_info": {
   "codemirror_mode": {
    "name": "ipython",
    "version": 3
   },
   "file_extension": ".py",
   "mimetype": "text/x-python",
   "name": "python",
   "nbconvert_exporter": "python",
   "pygments_lexer": "ipython3",
   "version": "3.7.3"
  }
 },
 "nbformat": 4,
 "nbformat_minor": 2
}
