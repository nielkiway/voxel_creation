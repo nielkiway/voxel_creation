{
 "cells": [
  {
   "cell_type": "code",
   "execution_count": 2,
   "metadata": {},
   "outputs": [],
   "source": [
    "import numpy as np\n",
    "import h5py\n",
    "import pandas as pd"
   ]
  },
  {
   "cell_type": "code",
   "execution_count": 116,
   "metadata": {},
   "outputs": [],
   "source": [
    "def dimension_check(h5_path, part_name, Slice_name):\n",
    "    with h5py.File(h5_path,'r') as h5:\n",
    "        X_Axis = h5[part_name][Slice_name]['X-Axis']\n",
    "        Y_Axis = h5[part_name][Slice_name]['Y-Axis']\n",
    "        Area = h5[part_name][Slice_name]['Area']\n",
    "        Intensity = h5[part_name][Slice_name]['Intensity']\n",
    "        \n",
    "        X_Axis_size = X_Axis.size\n",
    "        Y_Axis_size = Y_Axis.size\n",
    "        Area_size = Area.size\n",
    "        Intensity_size = Intensity.size \n",
    "        \n",
    "        #while_Schleife muss hier gleich mit rein \n",
    "        \n",
    "        if not X_Axis_size == Y_Axis_size == Area_size == Intensity_size:\n",
    "            \n",
    "            #find out which one is the lowest value\n",
    "            size_arr = np.array([X_Axis_size, Y_Axis_size, Area_size, Intensity_size])\n",
    "            min_size = size_arr.min()\n",
    "            \n",
    "            if X_Axis_size != min_size:\n",
    "                diff_size_x = X_Axis_size - min_size\n",
    "                X_Axis_new = np.delete(X_Axis, -diff_size_x)\n",
    "                X_Axis = X_Axis_new\n",
    "                X_Axis_size = X_Axis.size\n",
    "            \n",
    "            if Y_Axis_size != min_size:\n",
    "                diff_size_y = Y_Axis_size - min_size\n",
    "                Y_Axis_new = np.delete(Y_Axis, -diff_size_y)\n",
    "                Y_Axis = Y_Axis_new\n",
    "                Y_Axis_size = Y_Axis.size            \n",
    "            \n",
    "            if Area_size != min_size:\n",
    "                diff_size_area = Area_size - min_size\n",
    "                Area_new = np.delete(Area, -diff_size_area)\n",
    "                Area = Area_new\n",
    "                Area_size = Area.size \n",
    "                \n",
    "            if Intensity_size != min_size:\n",
    "                diff_size_intensity = Intensity_size - min_size\n",
    "                Intensity_new = np.delete(Intensity, -diff_size_intensity)\n",
    "                Intensity = Intensity_new\n",
    "                Intensity_size = Intensity.size \n",
    "            \n",
    "            \n",
    "            size_arr = np.array([X_Axis_size, Y_Axis_size, Area_size, Intensity_size])\n",
    "\n",
    "            \n",
    "            \n",
    "#            size_arr = np.array([X_Axis_size, Y_Axis_size, Area_size, Intensity_size])\n",
    "#            #find the minimum value and compare each size with it\n",
    "#            pos_failsize_array = np.where(size_arr != size_arr.min())\n",
    "#            if 0 in pos_failsize_array:\n",
    "#                X_Axis_new = np.delete(X_Axis, -1)\n",
    "#                X_Axis = X_Axis_new\n",
    "#                X_Axis_size = X_Axis.size\n",
    "#            elif 1 in pos_failsize_array:\n",
    "#                Y_Axis_new = np.delete(Y_Axis, -1)\n",
    "#                Y_Axis = Y_Axis_new\n",
    "#                Y_Axis_size = Y_Axis.size\n",
    "#            elif 2 in pos_failsize_array:\n",
    "#                Area_new = np.delete(Area, -1)\n",
    "#                Area = Area_new\n",
    "#                Area_size = Area.size\n",
    "#                print(Area.size)\n",
    "#            elif 3 in pos_failsize_array:\n",
    "#                Intensity_new = np.delete(Intensity, -1)\n",
    "#                Intensity = Intensity_new\n",
    "#                Intensity_size = Intensity.size\n",
    "#            \n",
    "#        size_arr = np.array([X_Axis_size, Y_Axis_size, Area_size, Intensity_size])\n",
    "            \n",
    "        print(size_arr)\n",
    "            \n",
    "#In [9]: a=np.array([5,1,2,3,10,4])\n",
    "\n",
    "#In [10]: np.where(a == a.min())\n",
    "#Out[10]: (array([1]),)\n",
    "\n",
    "#In [11]: np.where(a == a.max())\n",
    "#Out[11]: (array([4]),)\n",
    "        "
   ]
  },
  {
   "cell_type": "code",
   "execution_count": 117,
   "metadata": {},
   "outputs": [
    {
     "name": "stdout",
     "output_type": "stream",
     "text": [
      "[143602 143602 143602 143602]\n"
     ]
    }
   ],
   "source": [
    "df_Slice3 = dimension_check('/home/jan/Documents/CodeTDMStoHDF/Ausgangsdaten/examplerRun.h5','0_00003_Canti3_cls','Slice00009')"
   ]
  },
  {
   "cell_type": "code",
   "execution_count": 26,
   "metadata": {},
   "outputs": [],
   "source": [
    "def get_2D_data_from_h5(h5_path, part_name, Slice_name):\n",
    "    with h5py.File(h5_path,'r') as h5:\n",
    "        X_Axis = h5[part_name][Slice_name]['X-Axis']\n",
    "        Y_Axis = h5[part_name][Slice_name]['Y-Axis']\n",
    "        Area = h5[part_name][Slice_name]['Area']\n",
    "        Intensity = h5[part_name][Slice_name]['Intensity']\n",
    "        \n",
    "        print((X_Axis).size)\n",
    "        help_arr = np.column_stack((X_Axis, Y_Axis, Area, Intensity))\n",
    "        df = pd.DataFrame(help_arr, columns=['x','y','area','intensity'])\n",
    "        return df"
   ]
  },
  {
   "cell_type": "code",
   "execution_count": 41,
   "metadata": {},
   "outputs": [
    {
     "data": {
      "text/html": [
       "<div>\n",
       "<style scoped>\n",
       "    .dataframe tbody tr th:only-of-type {\n",
       "        vertical-align: middle;\n",
       "    }\n",
       "\n",
       "    .dataframe tbody tr th {\n",
       "        vertical-align: top;\n",
       "    }\n",
       "\n",
       "    .dataframe thead th {\n",
       "        text-align: right;\n",
       "    }\n",
       "</style>\n",
       "<table border=\"1\" class=\"dataframe\">\n",
       "  <thead>\n",
       "    <tr style=\"text-align: right;\">\n",
       "      <th></th>\n",
       "      <th>x</th>\n",
       "      <th>y</th>\n",
       "      <th>area</th>\n",
       "      <th>intensity</th>\n",
       "    </tr>\n",
       "  </thead>\n",
       "  <tbody>\n",
       "    <tr>\n",
       "      <th>0</th>\n",
       "      <td>7437.0</td>\n",
       "      <td>-19584.0</td>\n",
       "      <td>0.0</td>\n",
       "      <td>0.0</td>\n",
       "    </tr>\n",
       "    <tr>\n",
       "      <th>1</th>\n",
       "      <td>7437.0</td>\n",
       "      <td>-19584.0</td>\n",
       "      <td>0.0</td>\n",
       "      <td>0.0</td>\n",
       "    </tr>\n",
       "    <tr>\n",
       "      <th>2</th>\n",
       "      <td>7437.0</td>\n",
       "      <td>-19584.0</td>\n",
       "      <td>0.0</td>\n",
       "      <td>0.0</td>\n",
       "    </tr>\n",
       "    <tr>\n",
       "      <th>3</th>\n",
       "      <td>7437.0</td>\n",
       "      <td>-19584.0</td>\n",
       "      <td>0.0</td>\n",
       "      <td>0.0</td>\n",
       "    </tr>\n",
       "    <tr>\n",
       "      <th>4</th>\n",
       "      <td>7437.0</td>\n",
       "      <td>-19584.0</td>\n",
       "      <td>0.0</td>\n",
       "      <td>0.0</td>\n",
       "    </tr>\n",
       "    <tr>\n",
       "      <th>...</th>\n",
       "      <td>...</td>\n",
       "      <td>...</td>\n",
       "      <td>...</td>\n",
       "      <td>...</td>\n",
       "    </tr>\n",
       "    <tr>\n",
       "      <th>143597</th>\n",
       "      <td>10965.0</td>\n",
       "      <td>-19584.0</td>\n",
       "      <td>0.0</td>\n",
       "      <td>0.0</td>\n",
       "    </tr>\n",
       "    <tr>\n",
       "      <th>143598</th>\n",
       "      <td>10965.0</td>\n",
       "      <td>-19584.0</td>\n",
       "      <td>0.0</td>\n",
       "      <td>0.0</td>\n",
       "    </tr>\n",
       "    <tr>\n",
       "      <th>143599</th>\n",
       "      <td>10965.0</td>\n",
       "      <td>-19584.0</td>\n",
       "      <td>0.0</td>\n",
       "      <td>0.0</td>\n",
       "    </tr>\n",
       "    <tr>\n",
       "      <th>143600</th>\n",
       "      <td>10965.0</td>\n",
       "      <td>-19584.0</td>\n",
       "      <td>0.0</td>\n",
       "      <td>0.0</td>\n",
       "    </tr>\n",
       "    <tr>\n",
       "      <th>143601</th>\n",
       "      <td>10965.0</td>\n",
       "      <td>-19584.0</td>\n",
       "      <td>0.0</td>\n",
       "      <td>0.0</td>\n",
       "    </tr>\n",
       "  </tbody>\n",
       "</table>\n",
       "<p>143602 rows × 4 columns</p>\n",
       "</div>"
      ],
      "text/plain": [
       "              x        y  area  intensity\n",
       "0        7437.0 -19584.0   0.0        0.0\n",
       "1        7437.0 -19584.0   0.0        0.0\n",
       "2        7437.0 -19584.0   0.0        0.0\n",
       "3        7437.0 -19584.0   0.0        0.0\n",
       "4        7437.0 -19584.0   0.0        0.0\n",
       "...         ...      ...   ...        ...\n",
       "143597  10965.0 -19584.0   0.0        0.0\n",
       "143598  10965.0 -19584.0   0.0        0.0\n",
       "143599  10965.0 -19584.0   0.0        0.0\n",
       "143600  10965.0 -19584.0   0.0        0.0\n",
       "143601  10965.0 -19584.0   0.0        0.0\n",
       "\n",
       "[143602 rows x 4 columns]"
      ]
     },
     "execution_count": 41,
     "metadata": {},
     "output_type": "execute_result"
    }
   ],
   "source": [
    "df_Slice2 = get_2D_data_from_h5_with_dimension_check('/home/jan/Documents/CodeTDMStoHDF/Ausgangsdaten/examplerRun.h5','0_00003_Canti3_cls','Slice00002')\n",
    "df_Slice2"
   ]
  },
  {
   "cell_type": "code",
   "execution_count": 48,
   "metadata": {},
   "outputs": [
    {
     "data": {
      "text/html": [
       "<div>\n",
       "<style scoped>\n",
       "    .dataframe tbody tr th:only-of-type {\n",
       "        vertical-align: middle;\n",
       "    }\n",
       "\n",
       "    .dataframe tbody tr th {\n",
       "        vertical-align: top;\n",
       "    }\n",
       "\n",
       "    .dataframe thead th {\n",
       "        text-align: right;\n",
       "    }\n",
       "</style>\n",
       "<table border=\"1\" class=\"dataframe\">\n",
       "  <thead>\n",
       "    <tr style=\"text-align: right;\">\n",
       "      <th></th>\n",
       "      <th>x</th>\n",
       "      <th>y</th>\n",
       "      <th>area</th>\n",
       "      <th>intensity</th>\n",
       "    </tr>\n",
       "  </thead>\n",
       "  <tbody>\n",
       "    <tr>\n",
       "      <th>0</th>\n",
       "      <td>6039.0</td>\n",
       "      <td>-19584.0</td>\n",
       "      <td>0.0</td>\n",
       "      <td>0.0</td>\n",
       "    </tr>\n",
       "    <tr>\n",
       "      <th>1</th>\n",
       "      <td>6039.0</td>\n",
       "      <td>-19584.0</td>\n",
       "      <td>0.0</td>\n",
       "      <td>0.0</td>\n",
       "    </tr>\n",
       "    <tr>\n",
       "      <th>2</th>\n",
       "      <td>6039.0</td>\n",
       "      <td>-19584.0</td>\n",
       "      <td>0.0</td>\n",
       "      <td>0.0</td>\n",
       "    </tr>\n",
       "    <tr>\n",
       "      <th>3</th>\n",
       "      <td>6039.0</td>\n",
       "      <td>-19584.0</td>\n",
       "      <td>0.0</td>\n",
       "      <td>0.0</td>\n",
       "    </tr>\n",
       "    <tr>\n",
       "      <th>4</th>\n",
       "      <td>6039.0</td>\n",
       "      <td>-19584.0</td>\n",
       "      <td>0.0</td>\n",
       "      <td>0.0</td>\n",
       "    </tr>\n",
       "    <tr>\n",
       "      <th>...</th>\n",
       "      <td>...</td>\n",
       "      <td>...</td>\n",
       "      <td>...</td>\n",
       "      <td>...</td>\n",
       "    </tr>\n",
       "    <tr>\n",
       "      <th>143197</th>\n",
       "      <td>9567.0</td>\n",
       "      <td>-19584.0</td>\n",
       "      <td>0.0</td>\n",
       "      <td>0.0</td>\n",
       "    </tr>\n",
       "    <tr>\n",
       "      <th>143198</th>\n",
       "      <td>9567.0</td>\n",
       "      <td>-19584.0</td>\n",
       "      <td>0.0</td>\n",
       "      <td>0.0</td>\n",
       "    </tr>\n",
       "    <tr>\n",
       "      <th>143199</th>\n",
       "      <td>9567.0</td>\n",
       "      <td>-19584.0</td>\n",
       "      <td>0.0</td>\n",
       "      <td>0.0</td>\n",
       "    </tr>\n",
       "    <tr>\n",
       "      <th>143200</th>\n",
       "      <td>9567.0</td>\n",
       "      <td>-19584.0</td>\n",
       "      <td>0.0</td>\n",
       "      <td>0.0</td>\n",
       "    </tr>\n",
       "    <tr>\n",
       "      <th>143201</th>\n",
       "      <td>9567.0</td>\n",
       "      <td>-19584.0</td>\n",
       "      <td>0.0</td>\n",
       "      <td>0.0</td>\n",
       "    </tr>\n",
       "  </tbody>\n",
       "</table>\n",
       "<p>143202 rows × 4 columns</p>\n",
       "</div>"
      ],
      "text/plain": [
       "             x        y  area  intensity\n",
       "0       6039.0 -19584.0   0.0        0.0\n",
       "1       6039.0 -19584.0   0.0        0.0\n",
       "2       6039.0 -19584.0   0.0        0.0\n",
       "3       6039.0 -19584.0   0.0        0.0\n",
       "4       6039.0 -19584.0   0.0        0.0\n",
       "...        ...      ...   ...        ...\n",
       "143197  9567.0 -19584.0   0.0        0.0\n",
       "143198  9567.0 -19584.0   0.0        0.0\n",
       "143199  9567.0 -19584.0   0.0        0.0\n",
       "143200  9567.0 -19584.0   0.0        0.0\n",
       "143201  9567.0 -19584.0   0.0        0.0\n",
       "\n",
       "[143202 rows x 4 columns]"
      ]
     },
     "execution_count": 48,
     "metadata": {},
     "output_type": "execute_result"
    }
   ],
   "source": [
    "df_Slice3 = get_2D_data_from_h5_with_dimension_check('/home/jan/Documents/CodeTDMStoHDF/Ausgangsdaten/examplerRun.h5','0_00003_Canti3_cls','Slice00003')\n",
    "df_Slice3"
   ]
  },
  {
   "cell_type": "code",
   "execution_count": null,
   "metadata": {},
   "outputs": [],
   "source": [
    "df_Slice8 = get_2D_data_from_h5_with_dimension_check('/home/jan/Documents/CodeTDMStoHDF/Ausgangsdaten/examplerRun.h5','0_00003_Canti3_cls','Slice00009')\n",
    "df_Slice8"
   ]
  },
  {
   "cell_type": "code",
   "execution_count": null,
   "metadata": {},
   "outputs": [],
   "source": [
    "def get_2D_data_from_h5_with_dimension_check(h5_path, part_name, Slice_name):\n",
    "    with h5py.File(h5_path,'r') as h5:\n",
    "        X_Axis = h5[part_name][Slice_name]['X-Axis']\n",
    "        Y_Axis = h5[part_name][Slice_name]['Y-Axis']\n",
    "        Area = h5[part_name][Slice_name]['Area']\n",
    "        Intensity = h5[part_name][Slice_name]['Intensity']\n",
    "        \n",
    "        X_Axis_size = X_Axis.size\n",
    "        Y_Axis_size = Y_Axis.size\n",
    "        Area_size = Area.size\n",
    "        Intensity_size = Intensity.size \n",
    "             \n",
    "        while not X_Axis_size == Y_Axis_size == Area_size == Intensity_size:\n",
    "            \n",
    "        M\n",
    "                \n",
    "            \n",
    "            #size_arr = np.array([X_Axis_size, Y_Axis_size, Area_size, Intensity_size])\n",
    "\n",
    "            #pos_failsize_array = np.where(size_arr != size_arr.min())\n",
    "           \n",
    "        #by reducing all the dimensions to the minimum equal dimensions are guaranteed \n",
    "        #there is a risk of deleting more than just one datapoint without noticing -> maybe add an alert after more than 5(?) while iterations\n",
    "        help_arr = np.column_stack((X_Axis, Y_Axis, Area, Intensity))\n",
    "        df = pd.DataFrame(help_arr, columns=['x','y','area','intensity'])\n",
    "        return df    "
   ]
  },
  {
   "cell_type": "code",
   "execution_count": 78,
   "metadata": {},
   "outputs": [],
   "source": [
    "play_arr = np.array([0, 1, 3])"
   ]
  },
  {
   "cell_type": "code",
   "execution_count": 112,
   "metadata": {},
   "outputs": [
    {
     "data": {
      "text/plain": [
       "0"
      ]
     },
     "execution_count": 112,
     "metadata": {},
     "output_type": "execute_result"
    }
   ],
   "source": [
    "play_arr.min()"
   ]
  },
  {
   "cell_type": "code",
   "execution_count": 79,
   "metadata": {},
   "outputs": [
    {
     "name": "stdout",
     "output_type": "stream",
     "text": [
      "0 is in play_arr\n"
     ]
    }
   ],
   "source": [
    "if 0 in play_arr:\n",
    "    print('0 is in play_arr')              \n",
    "elif 1 in play_arr:\n",
    "    print('1 is in play_arr') \n",
    "elif 2 in play_arr:\n",
    "    print('2 is in play_arr') \n",
    "elif 3 in play_arr:\n",
    "    print('3 is in play_arr') "
   ]
  },
  {
   "cell_type": "code",
   "execution_count": 80,
   "metadata": {},
   "outputs": [
    {
     "data": {
      "text/plain": [
       "True"
      ]
     },
     "execution_count": 80,
     "metadata": {},
     "output_type": "execute_result"
    }
   ],
   "source": [
    "0 in play_arr"
   ]
  },
  {
   "cell_type": "code",
   "execution_count": 81,
   "metadata": {},
   "outputs": [
    {
     "data": {
      "text/plain": [
       "True"
      ]
     },
     "execution_count": 81,
     "metadata": {},
     "output_type": "execute_result"
    }
   ],
   "source": [
    "1 in play_arr"
   ]
  },
  {
   "cell_type": "code",
   "execution_count": 82,
   "metadata": {},
   "outputs": [
    {
     "data": {
      "text/plain": [
       "False"
      ]
     },
     "execution_count": 82,
     "metadata": {},
     "output_type": "execute_result"
    }
   ],
   "source": [
    "2 in play_arr"
   ]
  },
  {
   "cell_type": "code",
   "execution_count": 83,
   "metadata": {},
   "outputs": [
    {
     "data": {
      "text/plain": [
       "True"
      ]
     },
     "execution_count": 83,
     "metadata": {},
     "output_type": "execute_result"
    }
   ],
   "source": [
    "3 in play_arr"
   ]
  },
  {
   "cell_type": "code",
   "execution_count": 94,
   "metadata": {},
   "outputs": [
    {
     "data": {
      "text/plain": [
       "False"
      ]
     },
     "execution_count": 94,
     "metadata": {},
     "output_type": "execute_result"
    }
   ],
   "source": [
    "np.any(play_arr == 2)"
   ]
  },
  {
   "cell_type": "code",
   "execution_count": null,
   "metadata": {},
   "outputs": [],
   "source": []
  }
 ],
 "metadata": {
  "kernelspec": {
   "display_name": "Python [conda env:TDMS_env]",
   "language": "python",
   "name": "conda-env-TDMS_env-py"
  },
  "language_info": {
   "codemirror_mode": {
    "name": "ipython",
    "version": 3
   },
   "file_extension": ".py",
   "mimetype": "text/x-python",
   "name": "python",
   "nbconvert_exporter": "python",
   "pygments_lexer": "ipython3",
   "version": "3.7.3"
  }
 },
 "nbformat": 4,
 "nbformat_minor": 2
}
