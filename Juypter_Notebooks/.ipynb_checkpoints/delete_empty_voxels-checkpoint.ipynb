{
 "cells": [
  {
   "cell_type": "code",
   "execution_count": 1,
   "metadata": {},
   "outputs": [],
   "source": [
    "import h5py\n",
    "import numpy as np "
   ]
  },
  {
   "cell_type": "code",
   "execution_count": 31,
   "metadata": {},
   "outputs": [],
   "source": [
    "number_slices = 3"
   ]
  },
  {
   "cell_type": "code",
   "execution_count": 43,
   "metadata": {},
   "outputs": [],
   "source": [
    "with h5py.File('/home/jan/Documents/Voxel_Erstellung/HDFs/0_00003_Canti3_cls/Voxel_layer:_5.hdf5','a') as h5:\n",
    "    key_list = h5.keys()\n",
    "    \n",
    "    for key in key_list:\n",
    "        #print(key)\n",
    "        size_slice_cnt = 0\n",
    "        for num_slice in range(number_slices-1):\n",
    "            #print(num_slice)\n",
    "            size_slice = h5[key]['slice_{}'.format(num_slice)]['Area'].size\n",
    "            size_slice_cnt += size_slice\n",
    "            #print(size_slice_cnt)\n",
    "        if size_slice_cnt == 0:\n",
    "            #print('would not delete')\n",
    "            #print(key)\n",
    "            del h5[key] \n",
    "    \n",
    "    \n",
    "#        size_slice = h5[key]['slice_{}'.format(num_slice)]\n",
    "#        \n",
    "#        \n",
    "#        \n",
    "#        \n",
    "#        for num_slice in range(number_slices-1):\n",
    "#            print(1)\n",
    "#            print(num_slice)\n",
    "#            size_slice = h5[key]['slice_{}'.format(num_slice)]['Area'].size\n",
    "#            size_slice_cnt += size_slice\n",
    " #           print(size_slice_cnt)\n",
    "  #          if size_slice_cnt == 0:\n",
    "   #             del h5[key]\n",
    "    #    \n",
    "     #   \n",
    "      #  #print(size_slice)\n",
    "     "
   ]
  },
  {
   "cell_type": "code",
   "execution_count": 44,
   "metadata": {},
   "outputs": [
    {
     "name": "stdout",
     "output_type": "stream",
     "text": [
      "0\n",
      "1\n",
      "2\n"
     ]
    }
   ],
   "source": [
    "for i in range(3):\n",
    "    print (i)"
   ]
  },
  {
   "cell_type": "code",
   "execution_count": null,
   "metadata": {},
   "outputs": [],
   "source": []
  }
 ],
 "metadata": {
  "kernelspec": {
   "display_name": "Python [conda env:TDMS_env]",
   "language": "python",
   "name": "conda-env-TDMS_env-py"
  },
  "language_info": {
   "codemirror_mode": {
    "name": "ipython",
    "version": 3
   },
   "file_extension": ".py",
   "mimetype": "text/x-python",
   "name": "python",
   "nbconvert_exporter": "python",
   "pygments_lexer": "ipython3",
   "version": "3.7.3"
  }
 },
 "nbformat": 4,
 "nbformat_minor": 2
}
