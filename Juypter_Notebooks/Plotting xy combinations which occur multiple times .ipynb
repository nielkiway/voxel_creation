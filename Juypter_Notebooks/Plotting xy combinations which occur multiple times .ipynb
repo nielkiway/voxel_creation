{
 "cells": [
  {
   "cell_type": "code",
   "execution_count": 2,
   "metadata": {},
   "outputs": [],
   "source": [
    "import h5py\n",
    "import numpy as np \n",
    "import time\n",
    "import matplotlib.pyplot as plt"
   ]
  },
  {
   "cell_type": "code",
   "execution_count": 3,
   "metadata": {},
   "outputs": [],
   "source": [
    "def get_2D_data_from_h5_filtered_np(h5_path, part_name, Slice_name):\n",
    "    #opening h5 and getting the data\n",
    "    start_time = time.time()\n",
    "\n",
    "    with h5py.File(h5_path,'r') as h5:\n",
    "        #check whether slice exists -> if not: empty array returned\n",
    "        if Slice_name in h5[part_name]:\n",
    "            Y_Axis = np.array(h5[part_name][Slice_name]['Y-Axis'][:]).astype(int)\n",
    "            Area = np.array(h5[part_name][Slice_name]['Area'][:]).astype(int)\n",
    "            Intensity = np.array(h5[part_name][Slice_name]['Intensity'][:]).astype(int)\n",
    "            X_Axis = np.array(h5[part_name][Slice_name]['X-Axis'][:]).astype(int)\n",
    "\n",
    "            X_Axis_size = X_Axis.size\n",
    "            Y_Axis_size = Y_Axis.size\n",
    "            Area_size = Area.size\n",
    "            Intensity_size = Intensity.size\n",
    "\n",
    "            #if dimensions aren't equal the following code block is entered\n",
    "            if not X_Axis_size == Y_Axis_size == Area_size == Intensity_size:\n",
    "\n",
    "                #determine the lowest value among the different sizes\n",
    "                size_arr = np.array([X_Axis_size, Y_Axis_size, Area_size, Intensity_size])\n",
    "                min_size = size_arr.min()\n",
    "\n",
    "                if X_Axis_size != min_size:\n",
    "                    diff_size_x = X_Axis_size - min_size #calculating the difference between the actual value and the minimum and substracting it from the array\n",
    "                    X_Axis_new = np.delete(X_Axis, -diff_size_x)\n",
    "                    X_Axis = X_Axis_new\n",
    "                    X_Axis_size = X_Axis.size\n",
    "\n",
    "                if Y_Axis_size != min_size:\n",
    "                    diff_size_y = Y_Axis_size - min_size\n",
    "                    Y_Axis_new = np.delete(Y_Axis, -diff_size_y)\n",
    "                    Y_Axis = Y_Axis_new\n",
    "                    Y_Axis_size = Y_Axis.size\n",
    "\n",
    "                if Area_size != min_size:\n",
    "                    diff_size_area = Area_size - min_size\n",
    "                    Area_new = np.delete(Area, -diff_size_area)\n",
    "                    Area = Area_new\n",
    "                    Area_size = Area.size\n",
    "\n",
    "                if Intensity_size != min_size:\n",
    "                    diff_size_intensity = Intensity_size - min_size\n",
    "                    Intensity_new = np.delete(Intensity, -diff_size_intensity)\n",
    "                    Intensity = Intensity_new\n",
    "                    Intensity_size = Intensity.size\n",
    "\n",
    "                #by reducing all the dimensions to the minimum equal dimensions are guaranteed\n",
    "                #there is a risk of deleting more than just one datapoint without noticing -> maybe add an alert after more than 5(?) while iterations\n",
    "            print(str(X_Axis_size)+ ' datapoints found')\n",
    "            combos = np.stack((X_Axis, Y_Axis, Area, Intensity), axis=-1)\n",
    "\n",
    "            #filtering out the datapoints where area and intensity are =0\n",
    "            area_zeros = np.where(combos[:,2]== 0)\n",
    "            intensity_zeros = np.where(combos[:,3]==0)\n",
    "            zero_area_intensity_indices = np.intersect1d(area_zeros, intensity_zeros) #array of indices where area AND intensity are = 0\n",
    "\n",
    "            #deleting all the datapoints where area AND intensity are = 0\n",
    "            combos_wo_only_zeros = np.delete(combos, zero_area_intensity_indices, axis=0)\n",
    "            print(str(combos_wo_only_zeros.shape[0]) + ' datapoints where area != 0 AND intensity != 0')\n",
    "\n",
    "            combos_wo_only_zeros_unique, unique_indices = np.unique(combos_wo_only_zeros[:,[0,1]],axis=0, return_index = True)\n",
    "            combos_unique = combos_wo_only_zeros[unique_indices]\n",
    "            print(str(combos_unique.shape[0]) + ' unique datapoints where area != 0 AND intensity != 0')\n",
    "\n",
    "            Index_range = np.arange(combos_wo_only_zeros.shape[0])\n",
    "            indices_of_interest = np.setdiff1d(Index_range, unique_indices) #all the indices belonging to non unique x,y-combinations\n",
    "            \n",
    "            return (combos_wo_only_zeros)                                         #(combos_wo_only_zeros[indices_of_interest])\n",
    "            "
   ]
  },
  {
   "cell_type": "code",
   "execution_count": 4,
   "metadata": {
    "scrolled": true
   },
   "outputs": [
    {
     "name": "stdout",
     "output_type": "stream",
     "text": [
      "14402 datapoints found\n",
      "10148 datapoints where area != 0 AND intensity != 0\n",
      "9443 unique datapoints where area != 0 AND intensity != 0\n"
     ]
    }
   ],
   "source": [
    "array_multi_undocked = get_2D_data_from_h5_filtered_np('/home/jan/Documents/Klein_Datentransfer/HDF/BJ_Superlativ_QualiPro.h5', '0_00097_ZP1_Z_cls', 'Slice00001')"
   ]
  },
  {
   "cell_type": "code",
   "execution_count": 5,
   "metadata": {},
   "outputs": [
    {
     "data": {
      "text/plain": [
       "array([[-15968,   7625,      0,    553],\n",
       "       [-15968,   7625,      0,    904],\n",
       "       [-15968,   7625,    292,   1106],\n",
       "       ...,\n",
       "       [-17202,   8859,    793,      0],\n",
       "       [-17202,   8859,    793,      0],\n",
       "       [-17202,   8859,    396,      0]])"
      ]
     },
     "execution_count": 5,
     "metadata": {},
     "output_type": "execute_result"
    }
   ],
   "source": [
    "array_multi_undocked"
   ]
  },
  {
   "cell_type": "code",
   "execution_count": 6,
   "metadata": {},
   "outputs": [],
   "source": [
    "h5_path = '/home/jan/Documents/Klein_Datentransfer/HDF/BJ_Superlativ_QualiPro.h5'\n",
    "Slice_name = 'Slice00001'\n",
    "part_name = '0_00097_ZP1_Z_cls'\n",
    "max_slice_number = 1\n"
   ]
  },
  {
   "cell_type": "code",
   "execution_count": 7,
   "metadata": {},
   "outputs": [],
   "source": [
    "def get_true_min_maxY (h5_path, part_name, max_slice_number):\n",
    "\n",
    "    minY = []\n",
    "    maxY = []\n",
    "    for num_slice in range(max_slice_number):\n",
    "        with h5py.File(h5_path,'r') as h5:\n",
    "            Y_Axis = h5[part_name]['Slice'+str(\"{:05d}\".format(num_slice+1))]['Y-Axis']\n",
    "            y_axis_array = np.array(Y_Axis)\n",
    "            minY.append(y_axis_array.min())\n",
    "            maxY.append(y_axis_array.max())\n",
    "    minY_array = np.asarray(minY)\n",
    "    maxY_array = np.asarray(maxY)\n",
    "    return minY_array.min(), maxY_array.max()\n"
   ]
  },
  {
   "cell_type": "code",
   "execution_count": 8,
   "metadata": {},
   "outputs": [],
   "source": [
    "def get_true_min_maxX (h5_path, part_name, max_slice_number):\n",
    "\n",
    "    minX = []\n",
    "    maxX = []\n",
    "    for num_slice in range(max_slice_number):\n",
    "        with h5py.File(h5_path,'r') as h5:\n",
    "            X_Axis = h5[part_name]['Slice'+str(\"{:05d}\".format(num_slice+1))]['X-Axis']\n",
    "            x_axis_array = np.array(X_Axis)\n",
    "            minX.append(x_axis_array.min())\n",
    "            maxX.append(x_axis_array.max())\n",
    "    minX_array = np.asarray(minX)\n",
    "    maxX_array = np.asarray(maxX)\n",
    "    return minX_array.min(), maxX_array.max()"
   ]
  },
  {
   "cell_type": "code",
   "execution_count": 9,
   "metadata": {},
   "outputs": [],
   "source": [
    "minX, maxX = get_true_min_maxX (h5_path, part_name, max_slice_number)\n",
    "minY, maxY = get_true_min_maxY (h5_path, part_name, max_slice_number)"
   ]
  },
  {
   "cell_type": "code",
   "execution_count": 10,
   "metadata": {},
   "outputs": [
    {
     "data": {
      "text/plain": [
       "-17437.0"
      ]
     },
     "execution_count": 10,
     "metadata": {},
     "output_type": "execute_result"
    }
   ],
   "source": [
    "minX"
   ]
  },
  {
   "cell_type": "code",
   "execution_count": 11,
   "metadata": {},
   "outputs": [
    {
     "data": {
      "text/plain": [
       "5964.0"
      ]
     },
     "execution_count": 11,
     "metadata": {},
     "output_type": "execute_result"
    }
   ],
   "source": [
    "maxX"
   ]
  },
  {
   "cell_type": "code",
   "execution_count": 12,
   "metadata": {},
   "outputs": [
    {
     "data": {
      "text/plain": [
       "7387.0"
      ]
     },
     "execution_count": 12,
     "metadata": {},
     "output_type": "execute_result"
    }
   ],
   "source": [
    "minY"
   ]
  },
  {
   "cell_type": "code",
   "execution_count": 13,
   "metadata": {},
   "outputs": [
    {
     "data": {
      "text/plain": [
       "9135.0"
      ]
     },
     "execution_count": 13,
     "metadata": {},
     "output_type": "execute_result"
    }
   ],
   "source": [
    "maxY"
   ]
  },
  {
   "cell_type": "code",
   "execution_count": 14,
   "metadata": {},
   "outputs": [],
   "source": [
    "def dock_array_to_zero(array, minX, minY):\n",
    "    if minX >= 0 and minY >=0:\n",
    "        array[:,0] = array[:,0] - minX\n",
    "        array[:,1] = array[:,1] - minY\n",
    "    elif minX < 0 and minY <0:\n",
    "        array[:,0] = array[:,0] + abs(minX)\n",
    "        array[:,1] = array[:,1] + abs(minY)\n",
    "    elif minX >= 0 and minY <0:\n",
    "        array[:,0] = array[:,0] - minX\n",
    "        array[:,1] = array[:,1] + abs(minY)\n",
    "    elif minX < 0 and minY >= 0:\n",
    "        array[:,0] = array[:,0] + abs(minX)\n",
    "        array[:,1] = array[:,1] - minY\n",
    "    return array"
   ]
  },
  {
   "cell_type": "code",
   "execution_count": 15,
   "metadata": {},
   "outputs": [],
   "source": [
    "array_multi_docked = dock_array_to_zero(array_multi_undocked, minX, minY)"
   ]
  },
  {
   "cell_type": "code",
   "execution_count": 16,
   "metadata": {},
   "outputs": [
    {
     "data": {
      "text/plain": [
       "array([[1469,  238,    0,  553],\n",
       "       [1469,  238,    0,  904],\n",
       "       [1469,  238,  292, 1106],\n",
       "       ...,\n",
       "       [ 235, 1472,  793,    0],\n",
       "       [ 235, 1472,  793,    0],\n",
       "       [ 235, 1472,  396,    0]])"
      ]
     },
     "execution_count": 16,
     "metadata": {},
     "output_type": "execute_result"
    }
   ],
   "source": [
    "array_multi_docked"
   ]
  },
  {
   "cell_type": "code",
   "execution_count": 17,
   "metadata": {},
   "outputs": [
    {
     "data": {
      "image/png": "[encoded data removed]",
      "text/plain": [
       "<Figure size 432x432 with 1 Axes>"
      ]
     },
     "metadata": {
      "needs_background": "light"
     },
     "output_type": "display_data"
    }
   ],
   "source": [
    "fig = plt.figure( figsize=(6, 6))\n",
    "ax = fig.add_subplot(1, 1, 1)\n",
    "x = array_multi_docked[:,0]\n",
    "y = array_multi_docked[:,1]\n",
    "area = np.pi*1\n",
    "ax.scatter(x, y, s=area)\n",
    "plt.show()"
   ]
  },
  {
   "cell_type": "code",
   "execution_count": 21,
   "metadata": {},
   "outputs": [],
   "source": [
    "a = np.asarray([1,2,3])"
   ]
  },
  {
   "cell_type": "code",
   "execution_count": 22,
   "metadata": {},
   "outputs": [],
   "source": [
    "b = np.asarray([2,3,4])"
   ]
  },
  {
   "cell_type": "code",
   "execution_count": 23,
   "metadata": {},
   "outputs": [
    {
     "data": {
      "text/plain": [
       "array([ 2,  6, 12])"
      ]
     },
     "execution_count": 23,
     "metadata": {},
     "output_type": "execute_result"
    }
   ],
   "source": [
    "a*b"
   ]
  },
  {
   "cell_type": "code",
   "execution_count": null,
   "metadata": {},
   "outputs": [],
   "source": []
  }
 ],
 "metadata": {
  "kernelspec": {
   "display_name": "Python [conda env:DataPrep]",
   "language": "python",
   "name": "conda-env-DataPrep-py"
  },
  "language_info": {
   "codemirror_mode": {
    "name": "ipython",
    "version": 3
   },
   "file_extension": ".py",
   "mimetype": "text/x-python",
   "name": "python",
   "nbconvert_exporter": "python",
   "pygments_lexer": "ipython3",
   "version": "3.7.5"
  }
 },
 "nbformat": 4,
 "nbformat_minor": 2
}
