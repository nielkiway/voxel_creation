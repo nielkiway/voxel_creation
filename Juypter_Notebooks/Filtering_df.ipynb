{
 "cells": [
  {
   "cell_type": "code",
   "execution_count": 1,
   "metadata": {},
   "outputs": [],
   "source": [
    "import numpy as np\n",
    "import pandas as pd\n",
    "import h5py\n",
    "import time "
   ]
  },
  {
   "cell_type": "code",
   "execution_count": 2,
   "metadata": {},
   "outputs": [],
   "source": [
    "#combining all the different filters\n",
    "\n",
    "def get_2D_data_from_h5_filtered(h5_path, part_name, Slice_name, mode):\n",
    "    #Step 1: getting the data from the h5\n",
    "    start_time = time.time()\n",
    "    with h5py.File(h5_path,'r') as h5:\n",
    "        X_Axis = h5[part_name][Slice_name]['X-Axis']\n",
    "        Y_Axis = h5[part_name][Slice_name]['Y-Axis']\n",
    "        Area = h5[part_name][Slice_name]['Area']\n",
    "        Intensity = h5[part_name][Slice_name]['Intensity']\n",
    "\n",
    "        X_Axis_size = X_Axis.size\n",
    "        Y_Axis_size = Y_Axis.size\n",
    "        Area_size = Area.size\n",
    "        Intensity_size = Intensity.size\n",
    "\n",
    "        #if dimensions aren't equal the following code block is entered\n",
    "        if not X_Axis_size == Y_Axis_size == Area_size == Intensity_size:\n",
    "\n",
    "            #determine the lowest value among the different sizes\n",
    "            size_arr = np.array([X_Axis_size, Y_Axis_size, Area_size, Intensity_size])\n",
    "            min_size = size_arr.min()\n",
    "\n",
    "            if X_Axis_size != min_size:\n",
    "                diff_size_x = X_Axis_size - min_size #calculating the difference between the actual value and the minimum and substracting it from the array\n",
    "                X_Axis_new = np.delete(X_Axis, -diff_size_x)\n",
    "                X_Axis = X_Axis_new\n",
    "                X_Axis_size = X_Axis.size\n",
    "\n",
    "            if Y_Axis_size != min_size:\n",
    "                diff_size_y = Y_Axis_size - min_size\n",
    "                Y_Axis_new = np.delete(Y_Axis, -diff_size_y)\n",
    "                Y_Axis = Y_Axis_new\n",
    "                Y_Axis_size = Y_Axis.size\n",
    "\n",
    "            if Area_size != min_size:\n",
    "                diff_size_area = Area_size - min_size\n",
    "                Area_new = np.delete(Area, -diff_size_area)\n",
    "                Area = Area_new\n",
    "                Area_size = Area.size\n",
    "\n",
    "            if Intensity_size != min_size:\n",
    "                diff_size_intensity = Intensity_size - min_size\n",
    "                Intensity_new = np.delete(Intensity, -diff_size_intensity)\n",
    "                Intensity = Intensity_new\n",
    "                Intensity_size = Intensity.size\n",
    "\n",
    "\n",
    "        #by reducing all the dimensions to the minimum equal dimensions are guaranteed\n",
    "        #there is a risk of deleting more than just one datapoint without noticing -> maybe add an alert after more than 5(?) while iterations\n",
    "        help_arr = np.column_stack((X_Axis, Y_Axis, Area, Intensity))\n",
    "        df_raw = pd.DataFrame(help_arr, columns=['x','y','area','intensity'])\n",
    "        \n",
    "    #Step 2: change floats to ints and remove duplicates\n",
    "    df_int = df_raw.astype(int).drop_duplicates()\n",
    "    \n",
    "    #remove all rows with 0 for area and intensity\n",
    "    df_int = df_int.loc[(df_int['area'] != 0) & (df_int['intensity'] != 0)]\n",
    "    \n",
    "    \n",
    "    #Step 3: Get a df with all the rows where a certain x,y combination occurs multiple times \n",
    "    df_multi_xy = df_int[df_int.duplicated(['x','y'], keep = False)]\n",
    "    \n",
    "    #Step 4: get a new df out of df_multi_xy with x,y and mean/max of area and intensity for all x,y occurences\n",
    "    df_compact = pd.DataFrame(columns=['x','y','area','intensity']) #initialize df_compact\n",
    "    \n",
    "    print(\"vor iterieren %s seconds ---\" % (time.time() - start_time))\n",
    "    for ind in range (df_multi_xy.shape[0]):\n",
    "        if mode == 'mean':\n",
    "            area_mean = df_multi_xy.loc[(df_multi_xy['x']== df_multi_xy.iloc[ind]['x']) & (df_multi_xy['y'] == df_multi_xy.iloc[ind]['y'])]['area'].mean().astype(int)\n",
    "            intensity_mean = df_multi_xy.loc[(df_multi_xy['x']== df_multi_xy.iloc[ind]['x']) & (df_multi_xy['y'] == df_multi_xy.iloc[ind]['y'])]['intensity'].mean().astype(int)\n",
    "            df_compact = df_compact.append({'x': df_multi_xy.iloc[ind]['x'], 'y':df_multi_xy.iloc[ind]['y'], 'area':area_mean , 'intensity':intensity_mean}, ignore_index=True)\n",
    "        if mode == 'max':\n",
    "            area_max = df_multi_xy.loc[(df_multi_xy['x']== df_multi_xy.iloc[ind]['x']) & (df_multi_xy['y'] == df_multi_xy.iloc[ind]['y'])]['area'].max().astype(int)\n",
    "            intensity_max = df_multi_xy.loc[(df_multi_xy['x']== df_multi_xy.iloc[ind]['x']) & (df_multi_xy['y'] == df_multi_xy.iloc[ind]['y'])]['intensity'].max().astype(int)\n",
    "            df_compact = df_compact.append({'x': df_multi_xy.iloc[ind]['x'], 'y':df_multi_xy.iloc[ind]['y'], 'area':area_max , 'intensity':intensity_max}, ignore_index=True)\n",
    "    df_compact = df_compact.drop_duplicates()\n",
    "    \n",
    "    #Step 5: remove df_multi_xy from df_int and append df_compact\n",
    "    df_multi_xy_removed = df_int.drop(df_int[df_int.duplicated(['x','y'], keep = False)].index)\n",
    "    \n",
    "    df_final = df_multi_xy_removed.append(df_compact)\n",
    "    print(\"df creation took %s seconds ---\" % (time.time() - start_time))\n",
    "    return (df_final)\n",
    "    "
   ]
  },
  {
   "cell_type": "code",
   "execution_count": 14,
   "metadata": {},
   "outputs": [
    {
     "name": "stdout",
     "output_type": "stream",
     "text": [
      "vor iterieren 0.04787921905517578 seconds ---\n",
      "--- 75.32426691055298 seconds ---\n"
     ]
    }
   ],
   "source": [
    "df_undocked = get_2D_data_from_h5_filtered('/home/jan/Documents/CodeTDMStoHDF/Ausgangsdaten/examplerRun.h5', '0_00003_Canti3_cls', 'Slice00001','mean')"
   ]
  },
  {
   "cell_type": "code",
   "execution_count": 4,
   "metadata": {},
   "outputs": [],
   "source": [
    "def get_true_min_maxX (h5_path, part_name, max_slice_number):\n",
    "\n",
    "    minX = []\n",
    "    maxX = []\n",
    "    for num_slice in range(max_slice_number):\n",
    "        with h5py.File(h5_path,'r') as h5:\n",
    "            X_Axis = h5[part_name]['Slice'+str(\"{:05d}\".format(num_slice+1))]['X-Axis']\n",
    "            x_axis_array = np.array(X_Axis)\n",
    "            minX.append(x_axis_array.min())\n",
    "            maxX.append(x_axis_array.max())\n",
    "    minX_array = np.asarray(minX)\n",
    "    maxX_array = np.asarray(maxX)\n",
    "    return minX_array.min(), maxX_array.max()"
   ]
  },
  {
   "cell_type": "code",
   "execution_count": 6,
   "metadata": {},
   "outputs": [],
   "source": [
    "def get_true_min_maxY (h5_path, part_name, max_slice_number):\n",
    "\n",
    "    minY = []\n",
    "    maxY = []\n",
    "    for num_slice in range(max_slice_number):\n",
    "        with h5py.File(h5_path,'r') as h5:\n",
    "            Y_Axis = h5[part_name]['Slice'+str(\"{:05d}\".format(num_slice+1))]['Y-Axis']\n",
    "            y_axis_array = np.array(Y_Axis)\n",
    "            minY.append(y_axis_array.min())\n",
    "            maxY.append(y_axis_array.max())\n",
    "    minY_array = np.asarray(minY)\n",
    "    maxY_array = np.asarray(maxY)\n",
    "    return minY_array.min(), maxY_array.max()"
   ]
  },
  {
   "cell_type": "code",
   "execution_count": 9,
   "metadata": {},
   "outputs": [],
   "source": [
    "minX = get_true_min_maxX('/home/jan/Documents/CodeTDMStoHDF/Ausgangsdaten/examplerRun.h5', '0_00003_Canti3_cls', 142)[0] \n",
    "minY = get_true_min_maxY('/home/jan/Documents/CodeTDMStoHDF/Ausgangsdaten/examplerRun.h5', '0_00003_Canti3_cls', 142)[0]"
   ]
  },
  {
   "cell_type": "code",
   "execution_count": 13,
   "metadata": {},
   "outputs": [
    {
     "data": {
      "text/plain": [
       "-28561.0"
      ]
     },
     "execution_count": 13,
     "metadata": {},
     "output_type": "execute_result"
    }
   ],
   "source": [
    "minY"
   ]
  },
  {
   "cell_type": "code",
   "execution_count": 7,
   "metadata": {},
   "outputs": [],
   "source": [
    "def dock_df_to_zero(df, minX, minY):\n",
    "    if minX >= 0 and minY >=0:\n",
    "        df['x'] = df['x'] - minX\n",
    "        df['y'] = df['y'] - minY\n",
    "    elif minX < 0 and minY <0:\n",
    "        df['x'] = df['x'] + abs(minX)\n",
    "        df['y'] = df['y'] + abs(minY)\n",
    "    elif minX >= 0 and minY <0:\n",
    "        df['x'] = df['x'] - minX\n",
    "        df['y'] = df['y'] + abs(minY)\n",
    "    elif minX < 0 and min >= 0:\n",
    "        df['x'] = df['x'] + abs(minX)\n",
    "        df['y'] = df['y'] - minY\n",
    "    return df"
   ]
  },
  {
   "cell_type": "code",
   "execution_count": 15,
   "metadata": {},
   "outputs": [
    {
     "data": {
      "text/html": [
       "<div>\n",
       "<style scoped>\n",
       "    .dataframe tbody tr th:only-of-type {\n",
       "        vertical-align: middle;\n",
       "    }\n",
       "\n",
       "    .dataframe tbody tr th {\n",
       "        vertical-align: top;\n",
       "    }\n",
       "\n",
       "    .dataframe thead th {\n",
       "        text-align: right;\n",
       "    }\n",
       "</style>\n",
       "<table border=\"1\" class=\"dataframe\">\n",
       "  <thead>\n",
       "    <tr style=\"text-align: right;\">\n",
       "      <th></th>\n",
       "      <th>x</th>\n",
       "      <th>y</th>\n",
       "      <th>area</th>\n",
       "      <th>intensity</th>\n",
       "    </tr>\n",
       "  </thead>\n",
       "  <tbody>\n",
       "    <tr>\n",
       "      <th>980</th>\n",
       "      <td>3525</td>\n",
       "      <td>3578</td>\n",
       "      <td>349</td>\n",
       "      <td>619</td>\n",
       "    </tr>\n",
       "    <tr>\n",
       "      <th>983</th>\n",
       "      <td>3551</td>\n",
       "      <td>3578</td>\n",
       "      <td>329</td>\n",
       "      <td>704</td>\n",
       "    </tr>\n",
       "    <tr>\n",
       "      <th>986</th>\n",
       "      <td>3573</td>\n",
       "      <td>3578</td>\n",
       "      <td>294</td>\n",
       "      <td>666</td>\n",
       "    </tr>\n",
       "    <tr>\n",
       "      <th>987</th>\n",
       "      <td>3582</td>\n",
       "      <td>3578</td>\n",
       "      <td>314</td>\n",
       "      <td>645</td>\n",
       "    </tr>\n",
       "    <tr>\n",
       "      <th>989</th>\n",
       "      <td>3598</td>\n",
       "      <td>3578</td>\n",
       "      <td>287</td>\n",
       "      <td>619</td>\n",
       "    </tr>\n",
       "    <tr>\n",
       "      <th>...</th>\n",
       "      <td>...</td>\n",
       "      <td>...</td>\n",
       "      <td>...</td>\n",
       "      <td>...</td>\n",
       "    </tr>\n",
       "    <tr>\n",
       "      <th>16975</th>\n",
       "      <td>3729</td>\n",
       "      <td>8977</td>\n",
       "      <td>373</td>\n",
       "      <td>540</td>\n",
       "    </tr>\n",
       "    <tr>\n",
       "      <th>16981</th>\n",
       "      <td>3528</td>\n",
       "      <td>8817</td>\n",
       "      <td>248</td>\n",
       "      <td>518</td>\n",
       "    </tr>\n",
       "    <tr>\n",
       "      <th>16987</th>\n",
       "      <td>3649</td>\n",
       "      <td>8977</td>\n",
       "      <td>407</td>\n",
       "      <td>527</td>\n",
       "    </tr>\n",
       "    <tr>\n",
       "      <th>16994</th>\n",
       "      <td>3528</td>\n",
       "      <td>8897</td>\n",
       "      <td>369</td>\n",
       "      <td>595</td>\n",
       "    </tr>\n",
       "    <tr>\n",
       "      <th>17000</th>\n",
       "      <td>3569</td>\n",
       "      <td>8977</td>\n",
       "      <td>302</td>\n",
       "      <td>521</td>\n",
       "    </tr>\n",
       "  </tbody>\n",
       "</table>\n",
       "<p>63737 rows × 4 columns</p>\n",
       "</div>"
      ],
      "text/plain": [
       "          x     y area intensity\n",
       "980    3525  3578  349       619\n",
       "983    3551  3578  329       704\n",
       "986    3573  3578  294       666\n",
       "987    3582  3578  314       645\n",
       "989    3598  3578  287       619\n",
       "...     ...   ...  ...       ...\n",
       "16975  3729  8977  373       540\n",
       "16981  3528  8817  248       518\n",
       "16987  3649  8977  407       527\n",
       "16994  3528  8897  369       595\n",
       "17000  3569  8977  302       521\n",
       "\n",
       "[63737 rows x 4 columns]"
      ]
     },
     "execution_count": 15,
     "metadata": {},
     "output_type": "execute_result"
    }
   ],
   "source": [
    "df_docked = dock_df_to_zero(df_undocked, minX, minY)\n",
    "df_docked"
   ]
  },
  {
   "cell_type": "code",
   "execution_count": 32,
   "metadata": {},
   "outputs": [
    {
     "name": "stdout",
     "output_type": "stream",
     "text": [
      "jo\n"
     ]
    }
   ],
   "source": [
    "if ((df_docked['x'] == 3525) & (df_docked['y'] == 3578)).any():\n",
    "    print ('jo')"
   ]
  },
  {
   "cell_type": "code",
   "execution_count": null,
   "metadata": {},
   "outputs": [],
   "source": [
    "#https://stackoverflow.com/questions/20190668/multiprocessing-a-for-loop"
   ]
  }
 ],
 "metadata": {
  "kernelspec": {
   "display_name": "Python [conda env:TDMS_env]",
   "language": "python",
   "name": "conda-env-TDMS_env-py"
  },
  "language_info": {
   "codemirror_mode": {
    "name": "ipython",
    "version": 3
   },
   "file_extension": ".py",
   "mimetype": "text/x-python",
   "name": "python",
   "nbconvert_exporter": "python",
   "pygments_lexer": "ipython3",
   "version": "3.7.3"
  }
 },
 "nbformat": 4,
 "nbformat_minor": 2
}
