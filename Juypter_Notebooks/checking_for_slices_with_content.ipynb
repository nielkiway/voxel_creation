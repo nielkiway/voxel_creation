{
 "cells": [
  {
   "cell_type": "code",
   "execution_count": 1,
   "metadata": {},
   "outputs": [],
   "source": [
    "import h5py\n",
    "import numpy as np\n",
    "import pandas as pd\n",
    "import math\n",
    "import re"
   ]
  },
  {
   "cell_type": "code",
   "execution_count": 2,
   "metadata": {},
   "outputs": [],
   "source": [
    "#here it is checked which slices contain information "
   ]
  },
  {
   "cell_type": "code",
   "execution_count": 4,
   "metadata": {},
   "outputs": [],
   "source": [
    "list_z_param = []\n",
    "with h5py.File('/home/jan/Documents/Klein_Datentransfer/HDF/BJ_Superlativ_QualiPro.h5','a') as h5:\n",
    "    key_list = h5['0_00109_ZP4_Z_cls'].keys()\n",
    "    \n",
    "    for key in key_list:\n",
    "       #shape suchen \n",
    "        shape = h5['0_00109_ZP4_Z_cls'][key]['Area'].shape[0]\n",
    "        if shape > 0: \n",
    "            list_z_param.append(key)"
   ]
  },
  {
   "cell_type": "code",
   "execution_count": 5,
   "metadata": {},
   "outputs": [],
   "source": [
    "list_p_param = []\n",
    "with h5py.File('/home/jan/Documents/Klein_Datentransfer/HDF/BJ_Superlativ_QualiPro.h5','a') as h5:\n",
    "    key_list = h5['0_00110_ZP4_P_2_cls'].keys()\n",
    "    \n",
    "    for key in key_list:\n",
    "       #shape suchen \n",
    "        shape = h5['0_00110_ZP4_P_2_cls'][key]['Area'].shape[0]\n",
    "        if shape > 0: \n",
    "            list_p_param.append(key)"
   ]
  },
  {
   "cell_type": "code",
   "execution_count": null,
   "metadata": {},
   "outputs": [],
   "source": [
    "#0_00097_ZP1_Z_cls\n",
    "\n",
    "#0_00099_ZP1_P_3_cls"
   ]
  },
  {
   "cell_type": "code",
   "execution_count": 8,
   "metadata": {},
   "outputs": [],
   "source": [
    "new_file_path = '/home/jan/Documents/Trainingsdaten/ZP_4/ZP_4_full_part.h5'\n",
    "name_in_h5 = 'ZP4_combined'\n",
    "\n",
    "Training_hdf = h5py.File(new_file_path, \"w\")\n",
    "Training_hdf.close()\n",
    "\n",
    "with h5py.File(new_file_path,'a') as h5:\n",
    "    h5.create_group(name_in_h5)\n",
    "    for slice_num in list_z_param:\n",
    "        #the following block transforms the uneven layer numbers in normal numbers\n",
    "        slice_num_int = int(re.search(r'\\d+', slice_num).group())\n",
    "        slice_num_normal = math.trunc(slice_num_int/2)\n",
    "        slice_name_normal = 'Slice' + str(\"{:05d}\".format(slice_num_normal))  \n",
    "        \n",
    "        h5[name_in_h5].create_group(slice_name_normal)\n",
    "        with h5py.File('/home/jan/Documents/Klein_Datentransfer/HDF/BJ_Superlativ_QualiPro.h5','a') as h5_2:\n",
    "            h5[name_in_h5][slice_name_normal].create_dataset('Area',data = h5_2['0_00097_ZP1_Z_cls'][slice_num]['Area'])\n",
    "            h5[name_in_h5][slice_name_normal].create_dataset('Intensity',data = h5_2['0_00097_ZP1_Z_cls'][slice_num]['Intensity'])\n",
    "            h5[name_in_h5][slice_name_normal].create_dataset('X-Axis',data = h5_2['0_00097_ZP1_Z_cls'][slice_num]['X-Axis'])\n",
    "            h5[name_in_h5][slice_name_normal].create_dataset('Y-Axis',data = h5_2['0_00097_ZP1_Z_cls'][slice_num]['Y-Axis'])\n",
    "            \n",
    "    for slice_num in list_p_param:\n",
    "        #the following block transforms the uneven layer numbers in normal numbers\n",
    "        slice_num_int_p = int(re.search(r'\\d+', slice_num).group())\n",
    "        slice_num_normal_p = math.trunc(slice_num_int_p/2)\n",
    "        slice_name_normal_p = 'Slice' + str(\"{:05d}\".format(slice_num_normal_p))\n",
    "        \n",
    "        h5[name_in_h5].create_group(slice_name_normal_p)\n",
    "        with h5py.File('/home/jan/Documents/Klein_Datentransfer/HDF/BJ_Superlativ_QualiPro.h5','a') as h5_2:\n",
    "            h5[name_in_h5][slice_name_normal_p].create_dataset('Area',data = h5_2['0_00099_ZP1_P_3_cls'][slice_num]['Area'])\n",
    "            h5[name_in_h5][slice_name_normal_p].create_dataset('Intensity',data = h5_2['0_00099_ZP1_P_3_cls'][slice_num]['Intensity'])\n",
    "            h5[name_in_h5][slice_name_normal_p].create_dataset('X-Axis',data = h5_2['0_00099_ZP1_P_3_cls'][slice_num]['X-Axis'])\n",
    "            h5[name_in_h5][slice_name_normal_p].create_dataset('Y-Axis',data = h5_2['0_00099_ZP1_P_3_cls'][slice_num]['Y-Axis'])        \n"
   ]
  },
  {
   "cell_type": "code",
   "execution_count": null,
   "metadata": {},
   "outputs": [],
   "source": []
  }
 ],
 "metadata": {
  "kernelspec": {
   "display_name": "Python [conda env:DataPrep]",
   "language": "python",
   "name": "conda-env-DataPrep-py"
  },
  "language_info": {
   "codemirror_mode": {
    "name": "ipython",
    "version": 3
   },
   "file_extension": ".py",
   "mimetype": "text/x-python",
   "name": "python",
   "nbconvert_exporter": "python",
   "pygments_lexer": "ipython3",
   "version": "3.7.5"
  }
 },
 "nbformat": 4,
 "nbformat_minor": 2
}
