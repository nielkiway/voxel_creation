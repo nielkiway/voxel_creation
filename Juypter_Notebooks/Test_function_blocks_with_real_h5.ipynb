{
 "cells": [
  {
   "cell_type": "code",
   "execution_count": 13,
   "metadata": {},
   "outputs": [],
   "source": [
    "import pandas as pd\n",
    "import numpy as np\n",
    "import h5py\n",
    "import math"
   ]
  },
  {
   "cell_type": "code",
   "execution_count": 8,
   "metadata": {},
   "outputs": [],
   "source": [
    "def get_attributes_from_hdf_5 (h5_path, part_name):\n",
    "    attrs_dict = {}\n",
    "    with h5py.File(h5_path,'r') as h5:\n",
    "        for item in h5[part_name].attrs.keys():\n",
    "            attrs_dict[item] = h5[part_name].attrs[item]\n",
    "        return attrs_dict"
   ]
  },
  {
   "cell_type": "code",
   "execution_count": 17,
   "metadata": {},
   "outputs": [],
   "source": [
    "def calculate_part_dimensions(h5_path, part_name):\n",
    "    #here one should additionally check whether all the required keys are in the dictionary\n",
    "    dict = {}\n",
    "    attrs_dict = get_attributes_from_hdf_5(h5_path, part_name)\n",
    "    maxX = attrs_dict.get('maxX')\n",
    "    maxY = attrs_dict.get('maxY')\n",
    "    maxZ = attrs_dict.get('maxZ')\n",
    "\n",
    "    minX = attrs_dict.get('minX')\n",
    "    minY = attrs_dict.get('minY')\n",
    "    minZ = attrs_dict.get('minZ')\n",
    "\n",
    "    layerThickness = attrs_dict.get('layerThickness')\n",
    "    height = abs(maxZ-minZ)\n",
    "\n",
    "    dict['lengthX'] = abs(maxX-minX)\n",
    "    dict['lengthY'] = abs(maxY-minY)\n",
    "    dict['height'] = abs(maxZ-minZ)\n",
    "    dict['minX'] = minX\n",
    "    dict['minY'] = minY\n",
    "\n",
    "    dict['number_of_layers'] = int(height/layerThickness)\n",
    "\n",
    "    return dict"
   ]
  },
  {
   "cell_type": "code",
   "execution_count": 18,
   "metadata": {},
   "outputs": [
    {
     "data": {
      "text/plain": [
       "{'lengthX': 36000,\n",
       " 'lengthY': 6000,\n",
       " 'height': 4475,\n",
       " 'minX': -113486,\n",
       " 'minY': 37743,\n",
       " 'number_of_layers': 179}"
      ]
     },
     "execution_count": 18,
     "metadata": {},
     "output_type": "execute_result"
    }
   ],
   "source": [
    "calculate_part_dimensions('/home/jan/Documents/CodeTDMStoHDF/Ausgangsdaten/examplerRun.h5','0_00003_Canti3_cls')"
   ]
  },
  {
   "cell_type": "code",
   "execution_count": 19,
   "metadata": {},
   "outputs": [],
   "source": [
    "dimension_dict = calculate_part_dimensions('/home/jan/Documents/CodeTDMStoHDF/Ausgangsdaten/examplerRun.h5','0_00003_Canti3_cls')\n",
    "length_x_part = dimension_dict['lengthX']\n",
    "length_y_part = dimension_dict['lengthY']\n",
    "number_of_layers_part = dimension_dict['number_of_layers']\n",
    "voxel_size = 100\n",
    "num_voxel_layers = 20\n",
    "\n",
    "num_voxels = get_number_voxel(length_x_part, length_y_part, number_of_layers_part, voxel_size, num_voxel_layers)\n",
    "num_voxels_x = num_voxels[0]\n",
    "num_voxels_y = num_voxels[1]\n",
    "num_voxels_z = num_voxels[2]"
   ]
  },
  {
   "cell_type": "code",
   "execution_count": 20,
   "metadata": {},
   "outputs": [
    {
     "data": {
      "text/plain": [
       "(360, 60, 9)"
      ]
     },
     "execution_count": 20,
     "metadata": {},
     "output_type": "execute_result"
    }
   ],
   "source": [
    "num_voxels"
   ]
  },
  {
   "cell_type": "code",
   "execution_count": 21,
   "metadata": {},
   "outputs": [],
   "source": [
    "def get_2D_data_from_h5(h5_path, part_name, Slice_name):\n",
    "    with h5py.File(h5_path,'r') as h5:\n",
    "        X_Axis = h5[part_name][Slice_name]['X-Axis']\n",
    "        Y_Axis = h5[part_name][Slice_name]['Y-Axis']\n",
    "        Area = h5[part_name][Slice_name]['Area']\n",
    "        Intensity = h5[part_name][Slice_name]['Intensity']\n",
    "\n",
    "        help_arr = np.column_stack((X_Axis, Y_Axis, Area, Intensity))\n",
    "        df = pd.DataFrame(help_arr, columns=['x','y','area','intensity'])\n",
    "        return df"
   ]
  },
  {
   "cell_type": "code",
   "execution_count": 39,
   "metadata": {},
   "outputs": [],
   "source": [
    "df = get_2D_data_from_h5('/home/jan/Documents/CodeTDMStoHDF/Ausgangsdaten/examplerRun.h5','0_00003_Canti3_cls', 'Slice00001')"
   ]
  },
  {
   "cell_type": "code",
   "execution_count": 40,
   "metadata": {},
   "outputs": [
    {
     "name": "stdout",
     "output_type": "stream",
     "text": [
      "6039.0\n",
      "-28561.0\n"
     ]
    }
   ],
   "source": [
    "minX = df['x'].min()\n",
    "minY = df['y'].min()\n",
    "print(minX)\n",
    "print(minY)"
   ]
  },
  {
   "cell_type": "code",
   "execution_count": 41,
   "metadata": {},
   "outputs": [],
   "source": [
    "def dock_df_to_zero(df, minX, minY):\n",
    "    if minX >= 0 and minY >=0:\n",
    "        print('fall1')\n",
    "        df['x'] = df['x'] - minX\n",
    "        df['y'] = df['y'] - minY\n",
    "    elif minX < 0 and minY <0:\n",
    "        print('fall2')\n",
    "        df['x'] = df['x'] + abs(minX)\n",
    "        df['y'] = df['y'] + abs(minY)\n",
    "    elif minX >= 0 and minY <0:\n",
    "        print('fall3')\n",
    "        df['x'] = df['x'] - minX\n",
    "        df['y'] = df['y'] + abs(minY)\n",
    "    elif minX < 0 and min >= 0:\n",
    "        print('fall4')\n",
    "        df['x'] = df['x'] + abs(minX)\n",
    "        df['y'] = df['y'] - minY\n",
    "    return df"
   ]
  },
  {
   "cell_type": "code",
   "execution_count": 42,
   "metadata": {},
   "outputs": [
    {
     "name": "stdout",
     "output_type": "stream",
     "text": [
      "fall3\n"
     ]
    }
   ],
   "source": [
    "new_df = dock_df_to_zero(df, minX, minY)"
   ]
  },
  {
   "cell_type": "code",
   "execution_count": 43,
   "metadata": {},
   "outputs": [
    {
     "data": {
      "text/html": [
       "<div>\n",
       "<style scoped>\n",
       "    .dataframe tbody tr th:only-of-type {\n",
       "        vertical-align: middle;\n",
       "    }\n",
       "\n",
       "    .dataframe tbody tr th {\n",
       "        vertical-align: top;\n",
       "    }\n",
       "\n",
       "    .dataframe thead th {\n",
       "        text-align: right;\n",
       "    }\n",
       "</style>\n",
       "<table border=\"1\" class=\"dataframe\">\n",
       "  <thead>\n",
       "    <tr style=\"text-align: right;\">\n",
       "      <th></th>\n",
       "      <th>x</th>\n",
       "      <th>y</th>\n",
       "      <th>area</th>\n",
       "      <th>intensity</th>\n",
       "    </tr>\n",
       "  </thead>\n",
       "  <tbody>\n",
       "    <tr>\n",
       "      <th>0</th>\n",
       "      <td>0.0</td>\n",
       "      <td>8977.0</td>\n",
       "      <td>0.0</td>\n",
       "      <td>0.0</td>\n",
       "    </tr>\n",
       "    <tr>\n",
       "      <th>1</th>\n",
       "      <td>0.0</td>\n",
       "      <td>8977.0</td>\n",
       "      <td>0.0</td>\n",
       "      <td>0.0</td>\n",
       "    </tr>\n",
       "    <tr>\n",
       "      <th>2</th>\n",
       "      <td>0.0</td>\n",
       "      <td>8977.0</td>\n",
       "      <td>0.0</td>\n",
       "      <td>0.0</td>\n",
       "    </tr>\n",
       "    <tr>\n",
       "      <th>3</th>\n",
       "      <td>0.0</td>\n",
       "      <td>8977.0</td>\n",
       "      <td>0.0</td>\n",
       "      <td>0.0</td>\n",
       "    </tr>\n",
       "    <tr>\n",
       "      <th>4</th>\n",
       "      <td>0.0</td>\n",
       "      <td>8977.0</td>\n",
       "      <td>0.0</td>\n",
       "      <td>0.0</td>\n",
       "    </tr>\n",
       "    <tr>\n",
       "      <th>...</th>\n",
       "      <td>...</td>\n",
       "      <td>...</td>\n",
       "      <td>...</td>\n",
       "      <td>...</td>\n",
       "    </tr>\n",
       "    <tr>\n",
       "      <th>143196</th>\n",
       "      <td>3528.0</td>\n",
       "      <td>8977.0</td>\n",
       "      <td>0.0</td>\n",
       "      <td>0.0</td>\n",
       "    </tr>\n",
       "    <tr>\n",
       "      <th>143197</th>\n",
       "      <td>3528.0</td>\n",
       "      <td>8977.0</td>\n",
       "      <td>0.0</td>\n",
       "      <td>0.0</td>\n",
       "    </tr>\n",
       "    <tr>\n",
       "      <th>143198</th>\n",
       "      <td>3528.0</td>\n",
       "      <td>8977.0</td>\n",
       "      <td>0.0</td>\n",
       "      <td>0.0</td>\n",
       "    </tr>\n",
       "    <tr>\n",
       "      <th>143199</th>\n",
       "      <td>3528.0</td>\n",
       "      <td>8977.0</td>\n",
       "      <td>0.0</td>\n",
       "      <td>0.0</td>\n",
       "    </tr>\n",
       "    <tr>\n",
       "      <th>143200</th>\n",
       "      <td>3528.0</td>\n",
       "      <td>8977.0</td>\n",
       "      <td>0.0</td>\n",
       "      <td>0.0</td>\n",
       "    </tr>\n",
       "  </tbody>\n",
       "</table>\n",
       "<p>143201 rows × 4 columns</p>\n",
       "</div>"
      ],
      "text/plain": [
       "             x       y  area  intensity\n",
       "0          0.0  8977.0   0.0        0.0\n",
       "1          0.0  8977.0   0.0        0.0\n",
       "2          0.0  8977.0   0.0        0.0\n",
       "3          0.0  8977.0   0.0        0.0\n",
       "4          0.0  8977.0   0.0        0.0\n",
       "...        ...     ...   ...        ...\n",
       "143196  3528.0  8977.0   0.0        0.0\n",
       "143197  3528.0  8977.0   0.0        0.0\n",
       "143198  3528.0  8977.0   0.0        0.0\n",
       "143199  3528.0  8977.0   0.0        0.0\n",
       "143200  3528.0  8977.0   0.0        0.0\n",
       "\n",
       "[143201 rows x 4 columns]"
      ]
     },
     "execution_count": 43,
     "metadata": {},
     "output_type": "execute_result"
    }
   ],
   "source": [
    "new_df"
   ]
  },
  {
   "cell_type": "code",
   "execution_count": null,
   "metadata": {},
   "outputs": [],
   "source": []
  }
 ],
 "metadata": {
  "kernelspec": {
   "display_name": "Python [conda env:TDMS_env]",
   "language": "python",
   "name": "conda-env-TDMS_env-py"
  },
  "language_info": {
   "codemirror_mode": {
    "name": "ipython",
    "version": 3
   },
   "file_extension": ".py",
   "mimetype": "text/x-python",
   "name": "python",
   "nbconvert_exporter": "python",
   "pygments_lexer": "ipython3",
   "version": "3.7.3"
  }
 },
 "nbformat": 4,
 "nbformat_minor": 2
}
