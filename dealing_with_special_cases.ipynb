{
 "cells": [
  {
   "cell_type": "code",
   "execution_count": 1,
   "metadata": {},
   "outputs": [],
   "source": [
    "#here ways of dealing with non-existing data and multiple values for a single data-point are developed"
   ]
  },
  {
   "cell_type": "code",
   "execution_count": 2,
   "metadata": {},
   "outputs": [],
   "source": [
    "import h5py\n",
    "import numpy as np\n",
    "import pandas as pd \n",
    "import math"
   ]
  },
  {
   "cell_type": "code",
   "execution_count": 53,
   "metadata": {},
   "outputs": [],
   "source": [
    "voxel_size = 3\n",
    "max_x_part = 4\n",
    "max_y_part = 4"
   ]
  },
  {
   "cell_type": "code",
   "execution_count": 4,
   "metadata": {},
   "outputs": [],
   "source": [
    "def get_2D_data_from_h5(h5_path, part_name, Slice_name):\n",
    "    with h5py.File(h5_path,'r') as h5:\n",
    "        X_Axis = h5[part_name][Slice_name]['X_Axis']\n",
    "        Y_Axis = h5[part_name][Slice_name]['Y_Axis']\n",
    "        Area = h5[part_name][Slice_name]['Area']\n",
    "\n",
    "        help_arr = np.column_stack((X_Axis, Y_Axis, Area))\n",
    "        df = pd.DataFrame(help_arr, columns=['x','y','area'])\n",
    "        return df"
   ]
  },
  {
   "cell_type": "code",
   "execution_count": 5,
   "metadata": {},
   "outputs": [],
   "source": [
    "df = get_2D_data_from_h5(\"/home/jan/Documents/Voxel_Erstellung/example_hdf_3.hdf\",'part_1','Slice_1')"
   ]
  },
  {
   "cell_type": "code",
   "execution_count": 7,
   "metadata": {},
   "outputs": [],
   "source": [
    "#deleting a certain value of the dataframe to simulate a missing value (x=0, y=2)\n",
    "df = df.drop(df.index[0])"
   ]
  },
  {
   "cell_type": "code",
   "execution_count": 19,
   "metadata": {},
   "outputs": [],
   "source": [
    "#creating multiple values for one point by replacing the 0s with 1s \n",
    "df = df.replace(0,1)"
   ]
  },
  {
   "cell_type": "code",
   "execution_count": 63,
   "metadata": {},
   "outputs": [],
   "source": [
    "#Berechnung der Anzahl an Voxeln (hier simpler Fall)\n",
    "def get_number_voxel (max_x_part, max_y_part, voxel_size):\n",
    "    n_voxels_x = math.ceil(int(max_x_part)/voxel_size)\n",
    "    n_voxels_y = math.ceil(int(max_y_part)/voxel_size)\n",
    "    return n_voxels_x, n_voxels_y #tuple is returned "
   ]
  },
  {
   "cell_type": "code",
   "execution_count": 50,
   "metadata": {},
   "outputs": [],
   "source": [
    "def fill_2D_voxel_area (voxel_size, num_voxels_x, num_voxels_y, df, filling_method):\n",
    "    array_area = np.zeros([voxel_size,voxel_size]) #creating an empty array of dimensions voxel_size*voxel_size\n",
    "    for i in range(voxel_size): #iterating over x\n",
    "        for j in range(voxel_size): #iterating over y\n",
    "\n",
    "            if df[(df['x'] == i) & (df['y'] == j)].shape[0] == 1: #here subset of the original dataframe is created an filtrered --> shape[0] returns the number of rows of this df subset  \n",
    "                #finding the area value for a certain point in the part-data-dataframe and allocating it to a position in the array\n",
    "                area_i = df.loc[(df['x'] == i) & (df['y'] == j)]\n",
    "                array_area[i][j] = area_i['area']\n",
    "            \n",
    "            elif df[(df['x'] == i) & (df['y'] == j)].shape[0] > 1:\n",
    "                #if there are more values than just one the maximum value is used for the voxel-datapoint; other methods of dealing with multiple values need to be considered \n",
    "                array_area[i][j] = df[(df['x'] == i) & (df['y'] == j)]['area'].max()\n",
    "\n",
    "            \n",
    "            elif df[(df['x'] == i) & (df['y'] == j)].shape[0] == 0 and filling_method == 'Zeros':\n",
    "                array_area[i][j] = 0\n",
    "                    \n",
    "            #elif filling_method == 'Mean': #with this method all the missing datapoints are getting filled with the mean of the non-missing datapoints \n",
    "             #   array_area[i][j] =      \n",
    "\n",
    "    return array_area\n",
    "\n",
    "#subsetDataFrame = dfObj[dfObj['Product'].isin(['Mangos', 'Grapes']) ]\n",
    "#df[df['first_name'].notnull() & (df['nationality'] == \"USA\")]\n",
    "#movies[(movies.duration >= 200) & (movies.genre == 'Drama')]"
   ]
  },
  {
   "cell_type": "code",
   "execution_count": 45,
   "metadata": {},
   "outputs": [
    {
     "data": {
      "text/plain": [
       "3"
      ]
     },
     "execution_count": 45,
     "metadata": {},
     "output_type": "execute_result"
    }
   ],
   "source": [
    "new_df = df[(df['x'] == 1) & (df['y'] ==1)]\n",
    "new_df.shape[0]"
   ]
  },
  {
   "cell_type": "code",
   "execution_count": 51,
   "metadata": {},
   "outputs": [
    {
     "data": {
      "text/plain": [
       "array([[ 0.,  0.],\n",
       "       [ 0., 34.]])"
      ]
     },
     "execution_count": 51,
     "metadata": {},
     "output_type": "execute_result"
    }
   ],
   "source": [
    "fill_2D_voxel_area(voxel_size, n_voxels[0], n_voxels[1],df,'Zeros')"
   ]
  },
  {
   "cell_type": "code",
   "execution_count": null,
   "metadata": {},
   "outputs": [],
   "source": []
  }
 ],
 "metadata": {
  "kernelspec": {
   "display_name": "Python [conda env:TDMS_env]",
   "language": "python",
   "name": "conda-env-TDMS_env-py"
  },
  "language_info": {
   "codemirror_mode": {
    "name": "ipython",
    "version": 3
   },
   "file_extension": ".py",
   "mimetype": "text/x-python",
   "name": "python",
   "nbconvert_exporter": "python",
   "pygments_lexer": "ipython3",
   "version": "3.7.3"
  }
 },
 "nbformat": 4,
 "nbformat_minor": 2
}
