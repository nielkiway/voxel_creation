{
 "cells": [
  {
   "cell_type": "code",
   "execution_count": 1,
   "metadata": {},
   "outputs": [],
   "source": [
    "#idea: scanning through all the x and y data for a certain part and returning the true min/max values "
   ]
  },
  {
   "cell_type": "code",
   "execution_count": 8,
   "metadata": {},
   "outputs": [],
   "source": [
    "import h5py\n",
    "import pandas as pd\n",
    "import numpy as np"
   ]
  },
  {
   "cell_type": "code",
   "execution_count": 40,
   "metadata": {},
   "outputs": [],
   "source": [
    "#looping through all the slices of certain hdf5 file \n",
    "def get_true_minmaxX (h5_path, part_name, max_slice_number):\n",
    "    \n",
    "    minX = []\n",
    "    maxX = []\n",
    "    for num_slice in range(max_slice_number):\n",
    "        with h5py.File(h5_path,'r') as h5:  \n",
    "            X_Axis = h5[part_name]['Slice'+str(\"{:05d}\".format(num_slice+1))]['X-Axis']       \n",
    "            x_axis_array = np.array(X_Axis)\n",
    "            minX.append(x_axis_array.min()) \n",
    "            maxX.append(x_axis_array.max())\n",
    "    minX_array = np.asarray(minX)\n",
    "    maxX_array = np.asarray(maxX)\n",
    "    return minX_array.min(), maxX_array.max()"
   ]
  },
  {
   "cell_type": "code",
   "execution_count": 39,
   "metadata": {},
   "outputs": [],
   "source": [
    "def get_true_minmaxY (h5_path, part_name, max_slice_number):\n",
    "    \n",
    "    minY = []\n",
    "    maxY = []\n",
    "    for num_slice in range(max_slice_number):\n",
    "        with h5py.File(h5_path,'r') as h5:  \n",
    "            Y_Axis = h5[part_name]['Slice'+str(\"{:05d}\".format(num_slice+1))]['Y-Axis']       \n",
    "            y_axis_array = np.array(Y_Axis)\n",
    "            minY.append(y_axis_array.min()) \n",
    "            maxY.append(y_axis_array.max())\n",
    "    minY_array = np.asarray(minY)\n",
    "    maxY_array = np.asarray(maxY)\n",
    "    return minY_array.min(), maxY_array.max()"
   ]
  },
  {
   "cell_type": "code",
   "execution_count": 42,
   "metadata": {},
   "outputs": [
    {
     "data": {
      "text/plain": [
       "(6039.0, 10985.0)"
      ]
     },
     "execution_count": 42,
     "metadata": {},
     "output_type": "execute_result"
    }
   ],
   "source": [
    "get_true_minmaxX ('/home/jan/Documents/CodeTDMStoHDF/Ausgangsdaten/examplerRun.h5','0_00003_Canti3_cls',142)"
   ]
  },
  {
   "cell_type": "code",
   "execution_count": 11,
   "metadata": {},
   "outputs": [],
   "source": [
    "with h5py.File('/home/jan/Documents/CodeTDMStoHDF/Ausgangsdaten/examplerRun.h5' ,'r') as h5:  \n",
    "    X_Axis = h5['0_00003_Canti3_cls']['Slice00001']['X-Axis']\n",
    "    Y_Axis = h5['0_00003_Canti3_cls']['Slice00001']['Y-Axis'] \n",
    "    \n",
    "    x_axis = np.array(X_Axis)\n",
    "    y_axis = np.array(Y_Axis)"
   ]
  },
  {
   "cell_type": "code",
   "execution_count": 13,
   "metadata": {},
   "outputs": [
    {
     "data": {
      "text/plain": [
       "6039.0"
      ]
     },
     "execution_count": 13,
     "metadata": {},
     "output_type": "execute_result"
    }
   ],
   "source": [
    "x_axis.min()"
   ]
  },
  {
   "cell_type": "code",
   "execution_count": 14,
   "metadata": {},
   "outputs": [
    {
     "data": {
      "text/plain": [
       "-28561.0"
      ]
     },
     "execution_count": 14,
     "metadata": {},
     "output_type": "execute_result"
    }
   ],
   "source": [
    "y_axis.min()"
   ]
  },
  {
   "cell_type": "code",
   "execution_count": 15,
   "metadata": {},
   "outputs": [
    {
     "data": {
      "text/plain": [
       "10985.0"
      ]
     },
     "execution_count": 15,
     "metadata": {},
     "output_type": "execute_result"
    }
   ],
   "source": [
    "x_axis.max()"
   ]
  },
  {
   "cell_type": "code",
   "execution_count": 17,
   "metadata": {},
   "outputs": [
    {
     "data": {
      "text/plain": [
       "-19565.0"
      ]
     },
     "execution_count": 17,
     "metadata": {},
     "output_type": "execute_result"
    }
   ],
   "source": [
    "y_axis.max()"
   ]
  },
  {
   "cell_type": "code",
   "execution_count": null,
   "metadata": {},
   "outputs": [],
   "source": []
  }
 ],
 "metadata": {
  "kernelspec": {
   "display_name": "Python [conda env:TDMS_env]",
   "language": "python",
   "name": "conda-env-TDMS_env-py"
  },
  "language_info": {
   "codemirror_mode": {
    "name": "ipython",
    "version": 3
   },
   "file_extension": ".py",
   "mimetype": "text/x-python",
   "name": "python",
   "nbconvert_exporter": "python",
   "pygments_lexer": "ipython3",
   "version": "3.7.3"
  }
 },
 "nbformat": 4,
 "nbformat_minor": 2
}
