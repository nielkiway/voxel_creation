{
 "cells": [
  {
   "cell_type": "code",
   "execution_count": 2,
   "metadata": {},
   "outputs": [],
   "source": [
    "import numpy as np\n",
    "import pandas as pd\n",
    "import h5py"
   ]
  },
  {
   "cell_type": "code",
   "execution_count": 35,
   "metadata": {},
   "outputs": [],
   "source": [
    "voxel_size = 200\n",
    "num_voxels_x = 25\n",
    "num_voxels_y = 45\n",
    "filling_method = 'Zeros'"
   ]
  },
  {
   "cell_type": "code",
   "execution_count": 52,
   "metadata": {},
   "outputs": [],
   "source": [
    "def get_2D_data_from_h5_with_dimension_check(h5_path, part_name, Slice_name):\n",
    "    with h5py.File(h5_path,'r') as h5:\n",
    "        X_Axis = h5[part_name][Slice_name]['X-Axis']\n",
    "        Y_Axis = h5[part_name][Slice_name]['Y-Axis']\n",
    "        Area = h5[part_name][Slice_name]['Area']\n",
    "        Intensity = h5[part_name][Slice_name]['Intensity']\n",
    "\n",
    "        X_Axis_size = X_Axis.size\n",
    "        Y_Axis_size = Y_Axis.size\n",
    "        Area_size = Area.size\n",
    "        Intensity_size = Intensity.size\n",
    "\n",
    "        #if dimensions aren't equal the following code block is entered\n",
    "        if not X_Axis_size == Y_Axis_size == Area_size == Intensity_size:\n",
    "\n",
    "            #determine the lowest value among the different sizes\n",
    "            size_arr = np.array([X_Axis_size, Y_Axis_size, Area_size, Intensity_size])\n",
    "            min_size = size_arr.min()\n",
    "\n",
    "            if X_Axis_size != min_size:\n",
    "                diff_size_x = X_Axis_size - min_size #calculating the difference between the actual value and the minimum and substracting it from the array\n",
    "                X_Axis_new = np.delete(X_Axis, -diff_size_x)\n",
    "                X_Axis = X_Axis_new\n",
    "                X_Axis_size = X_Axis.size\n",
    "\n",
    "            if Y_Axis_size != min_size:\n",
    "                diff_size_y = Y_Axis_size - min_size\n",
    "                Y_Axis_new = np.delete(Y_Axis, -diff_size_y)\n",
    "                Y_Axis = Y_Axis_new\n",
    "                Y_Axis_size = Y_Axis.size\n",
    "\n",
    "            if Area_size != min_size:\n",
    "                diff_size_area = Area_size - min_size\n",
    "                Area_new = np.delete(Area, -diff_size_area)\n",
    "                Area = Area_new\n",
    "                Area_size = Area.size\n",
    "\n",
    "            if Intensity_size != min_size:\n",
    "                diff_size_intensity = Intensity_size - min_size\n",
    "                Intensity_new = np.delete(Intensity, -diff_size_intensity)\n",
    "                Intensity = Intensity_new\n",
    "                Intensity_size = Intensity.size\n",
    "\n",
    "\n",
    "        #by reducing all the dimensions to the minimum equal dimensions are guaranteed\n",
    "        #there is a risk of deleting more than just one datapoint without noticing -> maybe add an alert after more than 5(?) while iterations\n",
    "        help_arr = np.column_stack((X_Axis, Y_Axis, Area, Intensity))\n",
    "        df = pd.DataFrame(help_arr, columns=['x','y','area','intensity'])\n",
    "        return df"
   ]
  },
  {
   "cell_type": "code",
   "execution_count": 53,
   "metadata": {},
   "outputs": [],
   "source": [
    "df_undocked = get_2D_data_from_h5_with_dimension_check('/home/jan/Documents/CodeTDMStoHDF/Ausgangsdaten/examplerRun.h5', '0_00003_Canti3_cls', 'Slice00001')"
   ]
  },
  {
   "cell_type": "code",
   "execution_count": 54,
   "metadata": {},
   "outputs": [],
   "source": [
    "def get_true_min_maxX (h5_path, part_name, max_slice_number):\n",
    "\n",
    "    minX = []\n",
    "    maxX = []\n",
    "    for num_slice in range(max_slice_number):\n",
    "        with h5py.File(h5_path,'r') as h5:\n",
    "            X_Axis = h5[part_name]['Slice'+str(\"{:05d}\".format(num_slice+1))]['X-Axis']\n",
    "            x_axis_array = np.array(X_Axis)\n",
    "            minX.append(x_axis_array.min())\n",
    "            maxX.append(x_axis_array.max())\n",
    "    minX_array = np.asarray(minX)\n",
    "    maxX_array = np.asarray(maxX)\n",
    "    return minX_array.min(), maxX_array.max()"
   ]
  },
  {
   "cell_type": "code",
   "execution_count": 55,
   "metadata": {},
   "outputs": [],
   "source": [
    "def get_true_min_maxY (h5_path, part_name, max_slice_number):\n",
    "\n",
    "    minY = []\n",
    "    maxY = []\n",
    "    for num_slice in range(max_slice_number):\n",
    "        with h5py.File(h5_path,'r') as h5:\n",
    "            Y_Axis = h5[part_name]['Slice'+str(\"{:05d}\".format(num_slice+1))]['Y-Axis']\n",
    "            y_axis_array = np.array(Y_Axis)\n",
    "            minY.append(y_axis_array.min())\n",
    "            maxY.append(y_axis_array.max())\n",
    "    minY_array = np.asarray(minY)\n",
    "    maxY_array = np.asarray(maxY)\n",
    "    return minY_array.min(), maxY_array.max()"
   ]
  },
  {
   "cell_type": "code",
   "execution_count": 56,
   "metadata": {},
   "outputs": [],
   "source": [
    "minX = get_true_min_maxX('/home/jan/Documents/CodeTDMStoHDF/Ausgangsdaten/examplerRun.h5', '0_00003_Canti3_cls', 142)[0]\n",
    "minY = get_true_min_maxY('/home/jan/Documents/CodeTDMStoHDF/Ausgangsdaten/examplerRun.h5', '0_00003_Canti3_cls', 142)[0]"
   ]
  },
  {
   "cell_type": "code",
   "execution_count": 57,
   "metadata": {},
   "outputs": [],
   "source": [
    "def dock_df_to_zero(df, minX, minY):\n",
    "    if minX >= 0 and minY >=0:\n",
    "        df['x'] = df['x'] - minX\n",
    "        df['y'] = df['y'] - minY\n",
    "    elif minX < 0 and minY <0:\n",
    "        df['x'] = df['x'] + abs(minX)\n",
    "        df['y'] = df['y'] + abs(minY)\n",
    "    elif minX >= 0 and minY <0:\n",
    "        df['x'] = df['x'] - minX\n",
    "        df['y'] = df['y'] + abs(minY)\n",
    "    elif minX < 0 and min >= 0:\n",
    "        df['x'] = df['x'] + abs(minX)\n",
    "        df['y'] = df['y'] - minY\n",
    "    return df"
   ]
  },
  {
   "cell_type": "code",
   "execution_count": 58,
   "metadata": {},
   "outputs": [
    {
     "data": {
      "text/html": [
       "<div>\n",
       "<style scoped>\n",
       "    .dataframe tbody tr th:only-of-type {\n",
       "        vertical-align: middle;\n",
       "    }\n",
       "\n",
       "    .dataframe tbody tr th {\n",
       "        vertical-align: top;\n",
       "    }\n",
       "\n",
       "    .dataframe thead th {\n",
       "        text-align: right;\n",
       "    }\n",
       "</style>\n",
       "<table border=\"1\" class=\"dataframe\">\n",
       "  <thead>\n",
       "    <tr style=\"text-align: right;\">\n",
       "      <th></th>\n",
       "      <th>x</th>\n",
       "      <th>y</th>\n",
       "      <th>area</th>\n",
       "      <th>intensity</th>\n",
       "    </tr>\n",
       "  </thead>\n",
       "  <tbody>\n",
       "    <tr>\n",
       "      <th>count</th>\n",
       "      <td>143201.000000</td>\n",
       "      <td>143201.000000</td>\n",
       "      <td>143201.000000</td>\n",
       "      <td>143201.000000</td>\n",
       "    </tr>\n",
       "    <tr>\n",
       "      <th>mean</th>\n",
       "      <td>4232.300781</td>\n",
       "      <td>4432.887207</td>\n",
       "      <td>144.456787</td>\n",
       "      <td>299.727081</td>\n",
       "    </tr>\n",
       "    <tr>\n",
       "      <th>std</th>\n",
       "      <td>544.545471</td>\n",
       "      <td>2567.269775</td>\n",
       "      <td>145.760574</td>\n",
       "      <td>287.940796</td>\n",
       "    </tr>\n",
       "    <tr>\n",
       "      <th>min</th>\n",
       "      <td>0.000000</td>\n",
       "      <td>0.000000</td>\n",
       "      <td>0.000000</td>\n",
       "      <td>0.000000</td>\n",
       "    </tr>\n",
       "    <tr>\n",
       "      <th>25%</th>\n",
       "      <td>3854.000000</td>\n",
       "      <td>2287.000000</td>\n",
       "      <td>0.000000</td>\n",
       "      <td>0.000000</td>\n",
       "    </tr>\n",
       "    <tr>\n",
       "      <th>50%</th>\n",
       "      <td>4254.000000</td>\n",
       "      <td>4303.000000</td>\n",
       "      <td>181.000000</td>\n",
       "      <td>493.000000</td>\n",
       "    </tr>\n",
       "    <tr>\n",
       "      <th>75%</th>\n",
       "      <td>4653.000000</td>\n",
       "      <td>6583.000000</td>\n",
       "      <td>237.000000</td>\n",
       "      <td>553.000000</td>\n",
       "    </tr>\n",
       "    <tr>\n",
       "      <th>max</th>\n",
       "      <td>4946.000000</td>\n",
       "      <td>8996.000000</td>\n",
       "      <td>1080.000000</td>\n",
       "      <td>3023.000000</td>\n",
       "    </tr>\n",
       "  </tbody>\n",
       "</table>\n",
       "</div>"
      ],
      "text/plain": [
       "                   x              y           area      intensity\n",
       "count  143201.000000  143201.000000  143201.000000  143201.000000\n",
       "mean     4232.300781    4432.887207     144.456787     299.727081\n",
       "std       544.545471    2567.269775     145.760574     287.940796\n",
       "min         0.000000       0.000000       0.000000       0.000000\n",
       "25%      3854.000000    2287.000000       0.000000       0.000000\n",
       "50%      4254.000000    4303.000000     181.000000     493.000000\n",
       "75%      4653.000000    6583.000000     237.000000     553.000000\n",
       "max      4946.000000    8996.000000    1080.000000    3023.000000"
      ]
     },
     "execution_count": 58,
     "metadata": {},
     "output_type": "execute_result"
    }
   ],
   "source": [
    "df_docked = dock_df_to_zero(df_undocked, minX, minY)\n",
    "df_docked.describe()"
   ]
  },
  {
   "cell_type": "code",
   "execution_count": 62,
   "metadata": {},
   "outputs": [],
   "source": [
    "def fill_2D_voxel_area (voxel_size, num_voxels_x, num_voxels_y, df, filling_method):\n",
    "    counter = 0\n",
    "    array_area = np.zeros([voxel_size,voxel_size]) #creating an empty array of dimensions voxel_size*voxel_size\n",
    "    for i in range(voxel_size*num_voxels_x, voxel_size*(num_voxels_x+1)): #iterating over x\n",
    "        for j in range(voxel_size*num_voxels_y,voxel_size*(num_voxels_y+1)): #iterating over y\n",
    "\n",
    "            if df[(df['x'] == i) & (df['y'] == j)].shape[0] == 1: #here subset of the original dataframe is created an filtrered --> shape[0] returns the number of rows of this df subset\n",
    "                #finding the area value for a certain point in the part-data-dataframe and allocating it to a position in the array\n",
    "                area_i = df.loc[(df['x'] == i) & (df['y'] == j)]\n",
    "                array_area[i-num_voxels_x*voxel_size][j-num_voxels_y*voxel_size] = area_i['Area']\n",
    "\n",
    "            elif df[(df['x'] == i) & (df['y'] == j)].shape[0] > 1:\n",
    "                #if there are more values than just one the maximum value is used for the voxel-datapoint; other methods of dealing with multiple values need to be considered\n",
    "                array_area[i-num_voxels_x*voxel_size][j-num_voxels_y*voxel_size] = df[(df['x'] == i) & (df['y'] == j)]['area'].max()\n",
    "\n",
    "\n",
    "            elif df[(df['x'] == i) & (df['y'] == j)].shape[0] == 0 and filling_method == 'Zeros':\n",
    "                array_area[i-num_voxels_x*voxel_size][j-num_voxels_y*voxel_size] = 0\n",
    "\n",
    "            #elif filling_method == 'Mean': #with this method all the missing datapoints are getting filled with the mean of the non-missing datapoints\n",
    "             #   array_area[i][j] =\n",
    "\n",
    "            print(array_area.max())\n",
    "            counter += 1\n",
    "            print(counter) #theoretisch nach 1145 Schluss, praktisch läuft er immer weiter"
   ]
  },
  {
   "cell_type": "code",
   "execution_count": 1,
   "metadata": {},
   "outputs": [
    {
     "ename": "NameError",
     "evalue": "name 'fill_2D_voxel_area' is not defined",
     "output_type": "error",
     "traceback": [
      "\u001b[0;31m---------------------------------------------------------------------------\u001b[0m",
      "\u001b[0;31mNameError\u001b[0m                                 Traceback (most recent call last)",
      "\u001b[0;32m<ipython-input-1-17de4af3cfac>\u001b[0m in \u001b[0;36m<module>\u001b[0;34m\u001b[0m\n\u001b[0;32m----> 1\u001b[0;31m \u001b[0mfill_2D_voxel_area\u001b[0m\u001b[0;34m(\u001b[0m\u001b[0;36m200\u001b[0m\u001b[0;34m,\u001b[0m \u001b[0;36m2\u001b[0m\u001b[0;34m,\u001b[0m \u001b[0;36m2\u001b[0m\u001b[0;34m,\u001b[0m \u001b[0mdf_docked\u001b[0m\u001b[0;34m,\u001b[0m \u001b[0;34m'Zeros'\u001b[0m\u001b[0;34m)\u001b[0m\u001b[0;34m\u001b[0m\u001b[0;34m\u001b[0m\u001b[0m\n\u001b[0m",
      "\u001b[0;31mNameError\u001b[0m: name 'fill_2D_voxel_area' is not defined"
     ]
    }
   ],
   "source": [
    "fill_2D_voxel_area(200, 2, 2, df_docked, 'Zeros')"
   ]
  },
  {
   "cell_type": "code",
   "execution_count": null,
   "metadata": {},
   "outputs": [],
   "source": []
  }
 ],
 "metadata": {
  "kernelspec": {
   "display_name": "Python [conda env:TDMS_env]",
   "language": "python",
   "name": "conda-env-TDMS_env-py"
  },
  "language_info": {
   "codemirror_mode": {
    "name": "ipython",
    "version": 3
   },
   "file_extension": ".py",
   "mimetype": "text/x-python",
   "name": "python",
   "nbconvert_exporter": "python",
   "pygments_lexer": "ipython3",
   "version": "3.7.3"
  }
 },
 "nbformat": 4,
 "nbformat_minor": 2
}
